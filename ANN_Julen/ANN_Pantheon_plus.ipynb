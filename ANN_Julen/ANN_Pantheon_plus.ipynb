{
 "cells": [
  {
   "cell_type": "code",
   "execution_count": 1,
   "metadata": {},
   "outputs": [],
   "source": [
    "import os\n",
    "os.environ[\"CUDA_DEVICE_ORDER\"]=\"PCI_BUS_ID\"\n",
    "os.environ[\"CUDA_VISIBLE_DEVICES\"]=\"1\" #model will be trained on GPU 1"
   ]
  },
  {
   "cell_type": "code",
   "execution_count": 2,
   "metadata": {},
   "outputs": [
    {
     "name": "stderr",
     "output_type": "stream",
     "text": [
      "2023-03-21 07:06:28.508107: I tensorflow/core/platform/cpu_feature_guard.cc:193] This TensorFlow binary is optimized with oneAPI Deep Neural Network Library (oneDNN) to use the following CPU instructions in performance-critical operations:  AVX2 FMA\n",
      "To enable them in other operations, rebuild TensorFlow with the appropriate compiler flags.\n",
      "2023-03-21 07:06:28.592908: W tensorflow/compiler/xla/stream_executor/platform/default/dso_loader.cc:64] Could not load dynamic library 'libcudart.so.11.0'; dlerror: libcudart.so.11.0: cannot open shared object file: No such file or directory\n",
      "2023-03-21 07:06:28.592924: I tensorflow/compiler/xla/stream_executor/cuda/cudart_stub.cc:29] Ignore above cudart dlerror if you do not have a GPU set up on your machine.\n",
      "2023-03-21 07:06:29.169779: W tensorflow/compiler/xla/stream_executor/platform/default/dso_loader.cc:64] Could not load dynamic library 'libnvinfer.so.7'; dlerror: libnvinfer.so.7: cannot open shared object file: No such file or directory\n",
      "2023-03-21 07:06:29.169839: W tensorflow/compiler/xla/stream_executor/platform/default/dso_loader.cc:64] Could not load dynamic library 'libnvinfer_plugin.so.7'; dlerror: libnvinfer_plugin.so.7: cannot open shared object file: No such file or directory\n",
      "2023-03-21 07:06:29.169846: W tensorflow/compiler/tf2tensorrt/utils/py_utils.cc:38] TF-TRT Warning: Cannot dlopen some TensorRT libraries. If you would like to use Nvidia GPU with TensorRT, please make sure the missing libraries mentioned above are installed properly.\n"
     ]
    }
   ],
   "source": [
    "import numpy as np\n",
    "import pandas as pd\n",
    "from scipy.misc import derivative\n",
    "import scipy.integrate as intg\n",
    "import seaborn as sns\n",
    "import matplotlib.pyplot as plt\n",
    "%matplotlib inline\n",
    "\n",
    "import tensorflow.keras\n",
    "import tensorflow as tf\n",
    "from tensorflow.keras.layers import Input, Dense\n",
    "from tensorflow.keras.models import Model\n",
    "# from tensorflow.keras.optimizers import RMSprop\n",
    "from sklearn.preprocessing import StandardScaler, MinMaxScaler\n",
    "from tensorflow.keras.optimizers import Adam\n",
    "from tensorflow.keras.initializers import Constant, RandomNormal\n",
    "\n",
    "\n",
    "from astroNN.nn.layers import MCDropout\n",
    "# import scipy as sp\n",
    "# from scipy.interpolate import interp1d"
   ]
  },
  {
   "cell_type": "code",
   "execution_count": 3,
   "metadata": {},
   "outputs": [],
   "source": [
    "file = '../data/pantheon.txt'\n",
    "syscov_file = '../data/pantheon_errors.txt'\n",
    "# file = 'data/lcparam_full_long.txt'\n",
    "df = pd.read_csv(file, sep = \" \", usecols=['zcmb', 'mb', 'dmb'])\n",
    "# df = pd.read_csv(file, sep = \" \")\n",
    "dmag = df[['dmb']]\n",
    "df = df[['zcmb', 'mb']]\n",
    "N = len(df.values)\n",
    "syscov = np.loadtxt(syscov_file, skiprows=1).reshape((N, N))\n",
    "cov = np.copy(syscov)"
   ]
  },
  {
   "cell_type": "code",
   "execution_count": 4,
   "metadata": {},
   "outputs": [
    {
     "data": {
      "text/html": [
       "<div>\n",
       "<style scoped>\n",
       "    .dataframe tbody tr th:only-of-type {\n",
       "        vertical-align: middle;\n",
       "    }\n",
       "\n",
       "    .dataframe tbody tr th {\n",
       "        vertical-align: top;\n",
       "    }\n",
       "\n",
       "    .dataframe thead th {\n",
       "        text-align: right;\n",
       "    }\n",
       "</style>\n",
       "<table border=\"1\" class=\"dataframe\">\n",
       "  <thead>\n",
       "    <tr style=\"text-align: right;\">\n",
       "      <th></th>\n",
       "      <th>zcmb</th>\n",
       "      <th>mb</th>\n",
       "    </tr>\n",
       "  </thead>\n",
       "  <tbody>\n",
       "    <tr>\n",
       "      <th>0</th>\n",
       "      <td>0.50349</td>\n",
       "      <td>22.93445</td>\n",
       "    </tr>\n",
       "    <tr>\n",
       "      <th>1</th>\n",
       "      <td>0.49520</td>\n",
       "      <td>22.88020</td>\n",
       "    </tr>\n",
       "    <tr>\n",
       "      <th>2</th>\n",
       "      <td>0.67820</td>\n",
       "      <td>24.03770</td>\n",
       "    </tr>\n",
       "    <tr>\n",
       "      <th>3</th>\n",
       "      <td>0.86720</td>\n",
       "      <td>24.34685</td>\n",
       "    </tr>\n",
       "    <tr>\n",
       "      <th>4</th>\n",
       "      <td>0.79920</td>\n",
       "      <td>24.36050</td>\n",
       "    </tr>\n",
       "  </tbody>\n",
       "</table>\n",
       "</div>"
      ],
      "text/plain": [
       "      zcmb        mb\n",
       "0  0.50349  22.93445\n",
       "1  0.49520  22.88020\n",
       "2  0.67820  24.03770\n",
       "3  0.86720  24.34685\n",
       "4  0.79920  24.36050"
      ]
     },
     "execution_count": 4,
     "metadata": {},
     "output_type": "execute_result"
    }
   ],
   "source": [
    "df.head()"
   ]
  },
  {
   "cell_type": "code",
   "execution_count": 5,
   "metadata": {},
   "outputs": [
    {
     "data": {
      "text/plain": [
       "(1048,)"
      ]
     },
     "execution_count": 5,
     "metadata": {},
     "output_type": "execute_result"
    }
   ],
   "source": [
    "dmag = dmag.values.reshape(N,)\n",
    "np.shape(dmag)"
   ]
  },
  {
   "cell_type": "code",
   "execution_count": 6,
   "metadata": {},
   "outputs": [
    {
     "data": {
      "text/plain": [
       "<seaborn.axisgrid.PairGrid at 0x7f7cdc0a71c0>"
      ]
     },
     "execution_count": 6,
     "metadata": {},
     "output_type": "execute_result"
    },
    {
     "data": {
      "image/png": "[encoded data removed]",
      "text/plain": [
       "<Figure size 360x360 with 6 Axes>"
      ]
     },
     "metadata": {
      "needs_background": "light"
     },
     "output_type": "display_data"
    }
   ],
   "source": [
    "sns.pairplot(df, diag_kind=\"kde\")"
   ]
  },
  {
   "cell_type": "code",
   "execution_count": 7,
   "metadata": {},
   "outputs": [
    {
     "data": {
      "text/plain": [
       "(array([   0,    1,    2, ..., 1045, 1046, 1047]),\n",
       " array([   0,    1,    2, ..., 1045, 1046, 1047]))"
      ]
     },
     "execution_count": 7,
     "metadata": {},
     "output_type": "execute_result"
    }
   ],
   "source": [
    "np.shape(dmag), np.shape(cov)\n",
    "np.diag_indices_from(cov)"
   ]
  },
  {
   "cell_type": "code",
   "execution_count": 8,
   "metadata": {},
   "outputs": [],
   "source": [
    "cov[np.diag_indices_from(cov)] += dmag**2\n",
    "xdiag = 1/cov.diagonal() "
   ]
  },
  {
   "cell_type": "code",
   "execution_count": 9,
   "metadata": {},
   "outputs": [
    {
     "name": "stdout",
     "output_type": "stream",
     "text": [
      "(1048,) <class 'numpy.ndarray'>\n"
     ]
    }
   ],
   "source": [
    "sq_errors = np.diag(syscov)\n",
    "print(np.shape(sq_errors), type(sq_errors))"
   ]
  },
  {
   "cell_type": "code",
   "execution_count": 10,
   "metadata": {},
   "outputs": [
    {
     "data": {
      "text/html": [
       "<div>\n",
       "<style scoped>\n",
       "    .dataframe tbody tr th:only-of-type {\n",
       "        vertical-align: middle;\n",
       "    }\n",
       "\n",
       "    .dataframe tbody tr th {\n",
       "        vertical-align: top;\n",
       "    }\n",
       "\n",
       "    .dataframe thead th {\n",
       "        text-align: right;\n",
       "    }\n",
       "</style>\n",
       "<table border=\"1\" class=\"dataframe\">\n",
       "  <thead>\n",
       "    <tr style=\"text-align: right;\">\n",
       "      <th></th>\n",
       "      <th>zcmb</th>\n",
       "      <th>mb</th>\n",
       "      <th>errors</th>\n",
       "    </tr>\n",
       "  </thead>\n",
       "  <tbody>\n",
       "    <tr>\n",
       "      <th>count</th>\n",
       "      <td>1048.000000</td>\n",
       "      <td>1048.000000</td>\n",
       "      <td>1048.000000</td>\n",
       "    </tr>\n",
       "    <tr>\n",
       "      <th>mean</th>\n",
       "      <td>0.322365</td>\n",
       "      <td>20.747108</td>\n",
       "      <td>0.142484</td>\n",
       "    </tr>\n",
       "    <tr>\n",
       "      <th>std</th>\n",
       "      <td>0.285995</td>\n",
       "      <td>2.647864</td>\n",
       "      <td>0.031643</td>\n",
       "    </tr>\n",
       "    <tr>\n",
       "      <th>min</th>\n",
       "      <td>0.010120</td>\n",
       "      <td>13.907450</td>\n",
       "      <td>0.086315</td>\n",
       "    </tr>\n",
       "    <tr>\n",
       "      <th>25%</th>\n",
       "      <td>0.131935</td>\n",
       "      <td>19.607525</td>\n",
       "      <td>0.120915</td>\n",
       "    </tr>\n",
       "    <tr>\n",
       "      <th>50%</th>\n",
       "      <td>0.248800</td>\n",
       "      <td>21.159450</td>\n",
       "      <td>0.137935</td>\n",
       "    </tr>\n",
       "    <tr>\n",
       "      <th>75%</th>\n",
       "      <td>0.422957</td>\n",
       "      <td>22.479637</td>\n",
       "      <td>0.156516</td>\n",
       "    </tr>\n",
       "    <tr>\n",
       "      <th>max</th>\n",
       "      <td>2.260000</td>\n",
       "      <td>26.877000</td>\n",
       "      <td>0.451069</td>\n",
       "    </tr>\n",
       "  </tbody>\n",
       "</table>\n",
       "</div>"
      ],
      "text/plain": [
       "              zcmb           mb       errors\n",
       "count  1048.000000  1048.000000  1048.000000\n",
       "mean      0.322365    20.747108     0.142484\n",
       "std       0.285995     2.647864     0.031643\n",
       "min       0.010120    13.907450     0.086315\n",
       "25%       0.131935    19.607525     0.120915\n",
       "50%       0.248800    21.159450     0.137935\n",
       "75%       0.422957    22.479637     0.156516\n",
       "max       2.260000    26.877000     0.451069"
      ]
     },
     "execution_count": 10,
     "metadata": {},
     "output_type": "execute_result"
    }
   ],
   "source": [
    "df['errors'] = np.sqrt(sq_errors+dmag**2)\n",
    "df.describe()"
   ]
  },
  {
   "cell_type": "code",
   "execution_count": 11,
   "metadata": {},
   "outputs": [],
   "source": [
    "# df['mb'] += 19.36"
   ]
  },
  {
   "cell_type": "code",
   "execution_count": 12,
   "metadata": {},
   "outputs": [
    {
     "data": {
      "text/plain": [
       "(0.0, 2.3)"
      ]
     },
     "execution_count": 12,
     "metadata": {},
     "output_type": "execute_result"
    },
    {
     "data": {
      "image/png": "[encoded data removed]",
      "text/plain": [
       "<Figure size 1000x700 with 1 Axes>"
      ]
     },
     "metadata": {
      "needs_background": "light"
     },
     "output_type": "display_data"
    }
   ],
   "source": [
    "plt.figure(figsize=(10, 7), dpi=100)\n",
    "plt.errorbar(df['zcmb'], df['mb']+19, df['errors'], fmt='g.', markersize=5, label='Observations', alpha=0.5)\n",
    "plt.xlabel(\"Redshift z\", fontsize=20)\n",
    "plt.xticks(fontsize=15)\n",
    "plt.yticks(fontsize=15)\n",
    "# plt.xscale('log')\n",
    "\n",
    "\n",
    "plt.ylabel(\"$\\mu(z)$\", fontsize=20)\n",
    "plt.xlim(0, 2.3)"
   ]
  },
  {
   "cell_type": "code",
   "execution_count": 13,
   "metadata": {},
   "outputs": [],
   "source": [
    "randomize = np.random.permutation(N)\n",
    "data = df.values[randomize]"
   ]
  },
  {
   "cell_type": "code",
   "execution_count": 14,
   "metadata": {},
   "outputs": [],
   "source": [
    "z = data[:,0]\n",
    "y = data[:,1:]\n",
    "# print(randomize)"
   ]
  },
  {
   "cell_type": "code",
   "execution_count": 15,
   "metadata": {},
   "outputs": [],
   "source": [
    "scalerz = StandardScaler()\n",
    "# scalerz = MinMaxScaler(feature_range=(-1,1))\n",
    "# fit scaler on data\n",
    "scalerz.fit(z.reshape(-1,1))\n",
    "# apply transform\n",
    "z = scalerz.transform(z.reshape(-1,1))\n",
    "\n",
    "# scalery = MinMaxScaler(feature_range=(0,1))\n",
    "# scalery = StandardScaler()\n",
    "# scalery.fit(y)\n",
    "# y = scalery.transform(y)"
   ]
  },
  {
   "cell_type": "code",
   "execution_count": 16,
   "metadata": {},
   "outputs": [],
   "source": [
    "split = 0.8\n",
    "ntrain = int(split * len(z))\n",
    "indx = [ntrain]\n",
    "z_train, z_test = np.split(z, indx)\n",
    "y_train, y_test = np.split(y, indx)"
   ]
  },
  {
   "cell_type": "code",
   "execution_count": 17,
   "metadata": {},
   "outputs": [],
   "source": [
    "callbacks = [tf.keras.callbacks.EarlyStopping(monitor='val_loss', mode='min',\n",
    "                                   min_delta=0.0,\n",
    "                                   patience=50.0,\n",
    "                                   restore_best_weights=True)]\n",
    "#                      tf.keras.callbacks.ReduceLROnPlateau(patience=2)]"
   ]
  },
  {
   "cell_type": "code",
   "execution_count": 18,
   "metadata": {},
   "outputs": [],
   "source": [
    "def RHSquared_a_owacdm(a, w0, wa, Om):\n",
    "    rhow = a**(-3*(1.0+w0+wa))*np.exp(-3*wa*(1-a))\n",
    "    return (Om/a**3+(1.0-Om)*rhow)\n",
    "\n",
    "def DistIntegrand_a(a, w0, wa, Om):\n",
    "        return 1./np.sqrt(RHSquared_a_owacdm(a, w0, wa, Om))/a**2\n",
    "    \n",
    "def Da_z(z, w0, wa, Om):\n",
    "        r = intg.quad(DistIntegrand_a, 1./(1+z), 1, args=(w0, wa, Om))\n",
    "        r = r[0]\n",
    "        return r\n",
    "\n",
    "### Hay que revisar esta constante en el return\n",
    "def distance_modulus(z, w0=-1, wa=0.0, Om=0.23):\n",
    "    return 5*np.log10(Da_z(z, w0, wa, Om)*(1+z))+24\n",
    "# +43\n",
    "\n",
    "zmodel = np.linspace(0.01, 2.4, 100)\n",
    "flcdm = []\n",
    "# fowacdm1 = []\n",
    "# fowacdm2 = []\n",
    "# fowacdm3 = []\n",
    "\n",
    "om = 0.27\n",
    "for zzz in zmodel:\n",
    "    flcdm.append(distance_modulus(zzz, w0=-1, wa=0, Om=om))\n",
    "\n",
    "#     fowacdm1.append(distance_modulus(zzz, w0=-1.3, wa=1.2))\n",
    "#     fowacdm1.append(distance_modulus(zzz, w0=-1.09, wa=0.3, Om=om))\n",
    "#     fowacdm2.append(distance_modulus(zzz, w0=-1.04, wa=-0.3, Om=om))\n",
    "#     fowacdm3.append(distance_modulus(zz, model='owacdm', w0=-1, wa=0.0))\n",
    "    \n",
    "flcdm = np.array(flcdm)\n",
    "# fowacdm1 = np.array(fowacdm1)\n",
    "# fowacdm2 = np.array(fowacdm2)\n",
    "# fowacdm3 = np.array(fowacdm3)"
   ]
  },
  {
   "cell_type": "code",
   "execution_count": 19,
   "metadata": {},
   "outputs": [
    {
     "name": "stdout",
     "output_type": "stream",
     "text": [
      "Model: \"model\"\n",
      "_________________________________________________________________\n",
      " Layer (type)                Output Shape              Param #   \n",
      "=================================================================\n",
      " input_1 (InputLayer)        [(None, 1)]               0         \n",
      "                                                                 \n",
      " dense (Dense)               (None, 50)                100       \n",
      "                                                                 \n",
      " dense_1 (Dense)             (None, 200)               10200     \n",
      "                                                                 \n",
      " dense_2 (Dense)             (None, 150)               30150     \n",
      "                                                                 \n",
      " dense_3 (Dense)             (None, 2)                 302       \n",
      "                                                                 \n",
      "=================================================================\n",
      "Total params: 40,752\n",
      "Trainable params: 40,752\n",
      "Non-trainable params: 0\n",
      "_________________________________________________________________\n"
     ]
    },
    {
     "name": "stderr",
     "output_type": "stream",
     "text": [
      "2023-03-21 07:06:44.408559: E tensorflow/compiler/xla/stream_executor/cuda/cuda_driver.cc:267] failed call to cuInit: CUDA_ERROR_NO_DEVICE: no CUDA-capable device is detected\n",
      "2023-03-21 07:06:44.408588: I tensorflow/compiler/xla/stream_executor/cuda/cuda_diagnostics.cc:169] retrieving CUDA diagnostic information for host: isidro-PC\n",
      "2023-03-21 07:06:44.408594: I tensorflow/compiler/xla/stream_executor/cuda/cuda_diagnostics.cc:176] hostname: isidro-PC\n",
      "2023-03-21 07:06:44.408705: I tensorflow/compiler/xla/stream_executor/cuda/cuda_diagnostics.cc:200] libcuda reported version is: 525.85.5\n",
      "2023-03-21 07:06:44.408726: I tensorflow/compiler/xla/stream_executor/cuda/cuda_diagnostics.cc:204] kernel reported version is: 525.85.5\n",
      "2023-03-21 07:06:44.408731: I tensorflow/compiler/xla/stream_executor/cuda/cuda_diagnostics.cc:310] kernel version seems to match DSO: 525.85.5\n",
      "2023-03-21 07:06:44.408931: I tensorflow/core/platform/cpu_feature_guard.cc:193] This TensorFlow binary is optimized with oneAPI Deep Neural Network Library (oneDNN) to use the following CPU instructions in performance-critical operations:  AVX2 FMA\n",
      "To enable them in other operations, rebuild TensorFlow with the appropriate compiler flags.\n"
     ]
    }
   ],
   "source": [
    "def model2(input_z):\n",
    "    x = Dense(50, activation='relu', input_shape=(1,))(input_z)\n",
    "    x = Dense(200, activation='relu')(x)\n",
    "    x = Dense(150, activation='relu')(x)\n",
    "    elast = Dense(2, activation='linear')(x)\n",
    "\n",
    "\n",
    "    return elast\n",
    "\n",
    "\n",
    "input_z = Input(shape = (1,))\n",
    "neural_model2 = Model(input_z, model2(input_z))\n",
    "neural_model2.compile(loss='mean_squared_error', optimizer = \"adam\")\n",
    "neural_model2.summary()"
   ]
  },
  {
   "cell_type": "markdown",
   "metadata": {},
   "source": [
    "#### Ahora usando incertidumbres de la red con Monte Carlo Dropout"
   ]
  },
  {
   "cell_type": "code",
   "execution_count": 20,
   "metadata": {},
   "outputs": [
    {
     "data": {
      "text/plain": [
       "((838, 1), (838, 1), (210, 1), (210, 1))"
      ]
     },
     "execution_count": 20,
     "metadata": {},
     "output_type": "execute_result"
    }
   ],
   "source": [
    "yy = y[:,0].reshape(-1,1)\n",
    "zz = z\n",
    "split = 0.8\n",
    "ntrain = int(split * len(zz))\n",
    "indx = [ntrain]\n",
    "zz_train, zz_test = np.split(zz, indx)\n",
    "yy_train, yy_test = np.split(yy, indx)\n",
    "np.shape(zz_train), np.shape(yy_train), np.shape(zz_test), np.shape(yy_test)"
   ]
  },
  {
   "cell_type": "code",
   "execution_count": null,
   "metadata": {},
   "outputs": [
    {
     "name": "stderr",
     "output_type": "stream",
     "text": [
      "WARNING:absl:`lr` is deprecated, please use `learning_rate` instead, or use the legacy optimizer, e.g.,tf.keras.optimizers.legacy.Adam.\n"
     ]
    },
    {
     "name": "stdout",
     "output_type": "stream",
     "text": [
      "Epoch 1/800\n",
      "210/210 [==============================] - 1s 2ms/step - loss: 60.5303 - val_loss: 11.1014\n",
      "Epoch 2/800\n",
      "210/210 [==============================] - 0s 1ms/step - loss: 7.2665 - val_loss: 5.5108\n",
      "Epoch 3/800\n",
      "210/210 [==============================] - 0s 1ms/step - loss: 5.0803 - val_loss: 4.1120\n",
      "Epoch 4/800\n",
      "210/210 [==============================] - 0s 1ms/step - loss: 3.9530 - val_loss: 3.9554\n",
      "Epoch 5/800\n",
      "210/210 [==============================] - 0s 1ms/step - loss: 3.4925 - val_loss: 3.9603\n",
      "Epoch 6/800\n",
      "210/210 [==============================] - 0s 1ms/step - loss: 3.1561 - val_loss: 3.3900\n",
      "Epoch 7/800\n",
      "210/210 [==============================] - 0s 1ms/step - loss: 3.0377 - val_loss: 2.4024\n",
      "Epoch 8/800\n",
      "210/210 [==============================] - 0s 1ms/step - loss: 2.8489 - val_loss: 3.6696\n",
      "Epoch 9/800\n",
      "210/210 [==============================] - 0s 1ms/step - loss: 2.9377 - val_loss: 2.7136\n",
      "Epoch 10/800\n",
      "210/210 [==============================] - 0s 1ms/step - loss: 2.4955 - val_loss: 2.7207\n",
      "Epoch 11/800\n",
      "210/210 [==============================] - 0s 1ms/step - loss: 2.2939 - val_loss: 2.5729\n",
      "Epoch 12/800\n",
      "210/210 [==============================] - 0s 1ms/step - loss: 2.5186 - val_loss: 1.8243\n",
      "Epoch 13/800\n",
      "210/210 [==============================] - 0s 1ms/step - loss: 2.5418 - val_loss: 2.2460\n",
      "Epoch 14/800\n",
      "210/210 [==============================] - 0s 1ms/step - loss: 2.3764 - val_loss: 2.2779\n",
      "Epoch 15/800\n",
      "210/210 [==============================] - 0s 1ms/step - loss: 2.2204 - val_loss: 2.0389\n",
      "Epoch 16/800\n",
      "210/210 [==============================] - 0s 1ms/step - loss: 2.3643 - val_loss: 2.5108\n",
      "Epoch 17/800\n",
      "210/210 [==============================] - 0s 1ms/step - loss: 2.1751 - val_loss: 2.0329\n",
      "Epoch 18/800\n",
      "210/210 [==============================] - 0s 1ms/step - loss: 2.1396 - val_loss: 1.7247\n",
      "Epoch 19/800\n",
      "210/210 [==============================] - 0s 1ms/step - loss: 2.1058 - val_loss: 2.6545\n",
      "Epoch 20/800\n",
      "210/210 [==============================] - 0s 1ms/step - loss: 1.8401 - val_loss: 1.9588\n",
      "Epoch 21/800\n",
      "210/210 [==============================] - 0s 1ms/step - loss: 2.3109 - val_loss: 2.1609\n",
      "Epoch 22/800\n",
      "210/210 [==============================] - 0s 1ms/step - loss: 2.2193 - val_loss: 1.8841\n",
      "Epoch 23/800\n",
      "210/210 [==============================] - 0s 1ms/step - loss: 2.0279 - val_loss: 1.7032\n",
      "Epoch 24/800\n",
      "210/210 [==============================] - 0s 1ms/step - loss: 2.1216 - val_loss: 2.0993\n",
      "Epoch 25/800\n",
      "210/210 [==============================] - 0s 1ms/step - loss: 2.3438 - val_loss: 2.0487\n",
      "Epoch 26/800\n",
      "210/210 [==============================] - 0s 1ms/step - loss: 1.8975 - val_loss: 1.7339\n",
      "Epoch 27/800\n",
      "210/210 [==============================] - 0s 1ms/step - loss: 1.8723 - val_loss: 2.3563\n",
      "Epoch 28/800\n",
      "210/210 [==============================] - 0s 1ms/step - loss: 1.8936 - val_loss: 2.0789\n",
      "Epoch 29/800\n",
      "210/210 [==============================] - 0s 1ms/step - loss: 1.9327 - val_loss: 1.9880\n",
      "Epoch 30/800\n",
      "210/210 [==============================] - 0s 1ms/step - loss: 1.9322 - val_loss: 2.0929\n",
      "Epoch 31/800\n",
      "210/210 [==============================] - 0s 1ms/step - loss: 1.9939 - val_loss: 1.9230\n",
      "Epoch 32/800\n",
      "210/210 [==============================] - 0s 1ms/step - loss: 1.7230 - val_loss: 1.9724\n",
      "Epoch 33/800\n",
      "210/210 [==============================] - 0s 1ms/step - loss: 1.8188 - val_loss: 1.6095\n",
      "Epoch 34/800\n",
      "210/210 [==============================] - 0s 1ms/step - loss: 2.0182 - val_loss: 1.9631\n",
      "Epoch 35/800\n",
      "210/210 [==============================] - 0s 1ms/step - loss: 1.8468 - val_loss: 1.7602\n",
      "Epoch 36/800\n",
      "210/210 [==============================] - 0s 1ms/step - loss: 1.7539 - val_loss: 1.7253\n",
      "Epoch 37/800\n",
      "210/210 [==============================] - 0s 1ms/step - loss: 1.7815 - val_loss: 2.2942\n",
      "Epoch 38/800\n",
      "210/210 [==============================] - 0s 1ms/step - loss: 1.7644 - val_loss: 1.8391\n",
      "Epoch 39/800\n",
      "210/210 [==============================] - 0s 1ms/step - loss: 1.7914 - val_loss: 1.6273\n",
      "Epoch 40/800\n",
      "210/210 [==============================] - 0s 1ms/step - loss: 1.7198 - val_loss: 1.6331\n",
      "Epoch 41/800\n",
      "210/210 [==============================] - 0s 1ms/step - loss: 1.6193 - val_loss: 1.7258\n",
      "Epoch 42/800\n",
      "210/210 [==============================] - 0s 1ms/step - loss: 1.6945 - val_loss: 1.8350\n",
      "Epoch 43/800\n",
      "210/210 [==============================] - 0s 1ms/step - loss: 1.7667 - val_loss: 1.7813\n",
      "Epoch 44/800\n",
      "210/210 [==============================] - 0s 1ms/step - loss: 1.7278 - val_loss: 1.4344\n",
      "Epoch 45/800\n",
      "210/210 [==============================] - 0s 1ms/step - loss: 1.8032 - val_loss: 1.6371\n",
      "Epoch 46/800\n",
      "210/210 [==============================] - 0s 1ms/step - loss: 1.7383 - val_loss: 1.9702\n",
      "Epoch 47/800\n",
      "210/210 [==============================] - 0s 1ms/step - loss: 1.6288 - val_loss: 1.5159\n",
      "Epoch 48/800\n",
      "210/210 [==============================] - 0s 1ms/step - loss: 1.6277 - val_loss: 1.4960\n",
      "Epoch 49/800\n",
      "210/210 [==============================] - 0s 1ms/step - loss: 1.7878 - val_loss: 1.8379\n",
      "Epoch 50/800\n",
      "210/210 [==============================] - 0s 1ms/step - loss: 1.8123 - val_loss: 1.9920\n",
      "Epoch 51/800\n",
      "210/210 [==============================] - 0s 1ms/step - loss: 1.7016 - val_loss: 1.6911\n",
      "Epoch 52/800\n",
      "210/210 [==============================] - 0s 1ms/step - loss: 1.6351 - val_loss: 2.1110\n",
      "Epoch 53/800\n",
      "210/210 [==============================] - 0s 1ms/step - loss: 1.8792 - val_loss: 1.8201\n",
      "Epoch 54/800\n",
      "210/210 [==============================] - 0s 1ms/step - loss: 1.7193 - val_loss: 1.6289\n",
      "Epoch 55/800\n",
      "210/210 [==============================] - 0s 1ms/step - loss: 1.3798 - val_loss: 1.6404\n"
     ]
    }
   ],
   "source": [
    "def model_regression_dropout(num_hidden):\n",
    "    # Defeine Keras model for regression\n",
    "    model = tf.keras.models.Sequential()\n",
    "    model.add(tf.keras.layers.InputLayer(batch_input_shape=((None, 1))))\n",
    "    model.add(Dense(units=num_hidden[0], \n",
    "#                     kernel_regularizer=tf.keras.regularizers.l2(1e-4),\n",
    "#                     kernel_initializer='he_normal', \n",
    "                    activation='relu'))\n",
    "    model.add(MCDropout(0.3))\n",
    "    model.add(Dense(units=num_hidden[1], \n",
    "#                     kernel_regularizer=tf.keras.regularizers.l2(1e-4),\n",
    "#                     kernel_initializer='he_normal', \n",
    "                    activation='relu'))\n",
    "    model.add(MCDropout(0.3))\n",
    "    model.add(Dense(units=num_hidden[2], \n",
    "#                     kernel_regularizer=tf.keras.regularizers.l2(1e-4),\n",
    "#                     kernel_initializer='he_normal', \n",
    "                    activation='relu'))\n",
    "    model.add(MCDropout(0.3))\n",
    "    model.add(Dense(units=2, activation=\"linear\"))\n",
    "    return model\n",
    "\n",
    "#Define some parameter\n",
    "batch_size = 4\n",
    "# optimizer = Adam(lr=.005)\n",
    "optimizer = Adam(lr=0.0001)\n",
    "\n",
    "\n",
    "# Compile Keras model\n",
    "model = model_regression_dropout(num_hidden=[50, 200, 150])\n",
    "model.compile(loss='mse', optimizer=optimizer) \n",
    "# model2_train = model.fit(zz_train, yy_train, \n",
    "# #                          validation_split=0.0, \n",
    "#                          batch_size=batch_size, epochs=1000, verbose=1,\n",
    "#                          validation_data=(zz_test, yy_test))    \n",
    "model2_train = model.fit(z_train, y_train, batch_size=batch_size,\n",
    "                                    epochs=800,verbose=1,\n",
    "                                    validation_data=(z_test, y_test))"
   ]
  },
  {
   "cell_type": "code",
   "execution_count": null,
   "metadata": {},
   "outputs": [],
   "source": [
    "# Generate test data\n",
    "test_batch_size = 1000\n",
    "# x_test = np.random.uniform(0, 2., test_batch_size)\n",
    "x_test = np.linspace(0, 2., test_batch_size)\n",
    "\n",
    "mc_dropout_num = 100  # Run Dropout 100 times\n",
    "predictions = np.zeros((mc_dropout_num, test_batch_size, 2))\n",
    "uncertainty = np.zeros((mc_dropout_num, test_batch_size, 1))\n",
    "for i in range(mc_dropout_num):\n",
    "    predictions[i] = model.predict(scalerz.transform(x_test.reshape(-1,1)))\n",
    "    \n",
    "# get mean results and its varience\n",
    "prediction_mc_dropout = np.mean(predictions, axis=0)\n",
    "std_mc_dropout = np.std(predictions, axis=0)"
   ]
  },
  {
   "cell_type": "code",
   "execution_count": null,
   "metadata": {},
   "outputs": [],
   "source": [
    "np.mean(std_mc_dropout[:,0]), np.mean(std_mc_dropout[:,1])"
   ]
  },
  {
   "cell_type": "code",
   "execution_count": null,
   "metadata": {},
   "outputs": [],
   "source": [
    "# Plotting\n",
    "plt.figure(figsize=(10, 7), dpi=100)\n",
    "# plt.figure(figsize=(5, 4), dpi=100)\n",
    "sigma = np.sqrt(std_mc_dropout[:, 0]**2 + std_mc_dropout[:, 1]**2+ prediction_mc_dropout[:,1]**2)\n",
    "\n",
    "\n",
    "# plt.scatter(scalerz.inverse_transform(zz), yy, color='k', label='Original cosmic chronometers')\n",
    "plt.plot(zmodel, flcdm, label='$\\Lambda CDM$', c='b')\n",
    "plt.errorbar(df['zcmb'], df['mb'], df['errors'], fmt='g.', markersize=10, label='Observations')\n",
    "plt.errorbar(x_test, prediction_mc_dropout[:,0], yerr=sigma, markersize=2, fmt='o', \n",
    "             ecolor='r', capthick=2, elinewidth=0.8, alpha=0.3, c='m',\n",
    "             label='Synthetic data with $\\sigma$')\n",
    "\n",
    "plt.xlim(0,2)\n",
    "\n",
    "# plt.xlabel('Redshift')\n",
    "# plt.ylabel('$H(z)$')\n",
    "plt.ylabel(\"$\\mu(z)$\", fontsize=20)\n",
    "plt.xlabel(\"Redshift z\", fontsize=20)\n",
    "plt.xticks(fontsize=15)\n",
    "plt.yticks(fontsize=15)\n",
    "# plt.legend(loc='best')\n",
    "plt.legend(loc='upper left')\n",
    "# plt.show()\n",
    "plt.tight_layout()\n"
   ]
  },
  {
   "cell_type": "code",
   "execution_count": null,
   "metadata": {},
   "outputs": [],
   "source": [
    " prediction_mc_dropout[0,:]"
   ]
  },
  {
   "cell_type": "code",
   "execution_count": null,
   "metadata": {},
   "outputs": [],
   "source": [
    "plt.figure(figsize=(3, 2), dpi=100)\n",
    "\n",
    "plt.plot(model2_train.history['loss'], color='r', )\n",
    "plt.plot(model2_train.history['val_loss'], color='g')\n",
    "\n",
    "plt.ylabel('MSE', fontsize=11)\n",
    "plt.xlabel('Epoch', fontsize=11)\n",
    "plt.legend(['training set', 'validation set'], loc='upper right', fontsize=12)\n",
    "plt.xticks(fontsize=10)\n",
    "plt.xticks([])\n",
    "plt.yticks([])\n"
   ]
  },
  {
   "cell_type": "code",
   "execution_count": null,
   "metadata": {},
   "outputs": [],
   "source": [
    "# model.save('FFNN+MC-DO_Hz.h5')\n",
    "# tf.keras.models.save_model(neural_model2, '../models/FFNN_MC_DO.h5' )"
   ]
  },
  {
   "cell_type": "code",
   "execution_count": null,
   "metadata": {},
   "outputs": [],
   "source": [
    "mookdp = np.concatenate((x_test.reshape(-1,1), prediction_mc_dropout), axis=1)\n",
    "\n",
    "# np.savetxt(\"data.dat\",mookdp, delimiter=\" \")"
   ]
  },
  {
   "cell_type": "code",
   "execution_count": null,
   "metadata": {},
   "outputs": [],
   "source": [
    "dfMook = pd.DataFrame(mookdp, columns=['z', 'Hz', 'err'])\n",
    "sns.pairplot(dfMook, diag_kind=\"kde\")\n",
    "# plt.savefig(\"50hdmookdropout.png\")"
   ]
  },
  {
   "cell_type": "code",
   "execution_count": null,
   "metadata": {},
   "outputs": [],
   "source": []
  }
 ],
 "metadata": {
  "kernelspec": {
   "display_name": "Python 3 (ipykernel)",
   "language": "python",
   "name": "python3"
  },
  "language_info": {
   "codemirror_mode": {
    "name": "ipython",
    "version": 3
   },
   "file_extension": ".py",
   "mimetype": "text/x-python",
   "name": "python",
   "nbconvert_exporter": "python",
   "pygments_lexer": "ipython3",
   "version": "3.10.6"
  }
 },
 "nbformat": 4,
 "nbformat_minor": 2
}
