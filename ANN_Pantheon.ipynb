{
 "cells": [
  {
   "cell_type": "code",
   "execution_count": 1,
   "metadata": {},
   "outputs": [],
   "source": [
    "import os\n",
    "os.environ[\"CUDA_DEVICE_ORDER\"]=\"PCI_BUS_ID\"\n",
    "os.environ[\"CUDA_VISIBLE_DEVICES\"]=\"1\" #model will be trained on GPU 1"
   ]
  },
  {
   "cell_type": "code",
   "execution_count": 2,
   "metadata": {},
   "outputs": [
    {
     "name": "stderr",
     "output_type": "stream",
     "text": [
      "/home/isidro/anaconda3/lib/python3.7/site-packages/tensorflow/python/framework/dtypes.py:516: FutureWarning: Passing (type, 1) or '1type' as a synonym of type is deprecated; in a future version of numpy, it will be understood as (type, (1,)) / '(1,)type'.\n",
      "  _np_qint8 = np.dtype([(\"qint8\", np.int8, 1)])\n",
      "/home/isidro/anaconda3/lib/python3.7/site-packages/tensorflow/python/framework/dtypes.py:517: FutureWarning: Passing (type, 1) or '1type' as a synonym of type is deprecated; in a future version of numpy, it will be understood as (type, (1,)) / '(1,)type'.\n",
      "  _np_quint8 = np.dtype([(\"quint8\", np.uint8, 1)])\n",
      "/home/isidro/anaconda3/lib/python3.7/site-packages/tensorflow/python/framework/dtypes.py:518: FutureWarning: Passing (type, 1) or '1type' as a synonym of type is deprecated; in a future version of numpy, it will be understood as (type, (1,)) / '(1,)type'.\n",
      "  _np_qint16 = np.dtype([(\"qint16\", np.int16, 1)])\n",
      "/home/isidro/anaconda3/lib/python3.7/site-packages/tensorflow/python/framework/dtypes.py:519: FutureWarning: Passing (type, 1) or '1type' as a synonym of type is deprecated; in a future version of numpy, it will be understood as (type, (1,)) / '(1,)type'.\n",
      "  _np_quint16 = np.dtype([(\"quint16\", np.uint16, 1)])\n",
      "/home/isidro/anaconda3/lib/python3.7/site-packages/tensorflow/python/framework/dtypes.py:520: FutureWarning: Passing (type, 1) or '1type' as a synonym of type is deprecated; in a future version of numpy, it will be understood as (type, (1,)) / '(1,)type'.\n",
      "  _np_qint32 = np.dtype([(\"qint32\", np.int32, 1)])\n",
      "/home/isidro/anaconda3/lib/python3.7/site-packages/tensorflow/python/framework/dtypes.py:525: FutureWarning: Passing (type, 1) or '1type' as a synonym of type is deprecated; in a future version of numpy, it will be understood as (type, (1,)) / '(1,)type'.\n",
      "  np_resource = np.dtype([(\"resource\", np.ubyte, 1)])\n",
      "/home/isidro/anaconda3/lib/python3.7/site-packages/tensorboard/compat/tensorflow_stub/dtypes.py:541: FutureWarning: Passing (type, 1) or '1type' as a synonym of type is deprecated; in a future version of numpy, it will be understood as (type, (1,)) / '(1,)type'.\n",
      "  _np_qint8 = np.dtype([(\"qint8\", np.int8, 1)])\n",
      "/home/isidro/anaconda3/lib/python3.7/site-packages/tensorboard/compat/tensorflow_stub/dtypes.py:542: FutureWarning: Passing (type, 1) or '1type' as a synonym of type is deprecated; in a future version of numpy, it will be understood as (type, (1,)) / '(1,)type'.\n",
      "  _np_quint8 = np.dtype([(\"quint8\", np.uint8, 1)])\n",
      "/home/isidro/anaconda3/lib/python3.7/site-packages/tensorboard/compat/tensorflow_stub/dtypes.py:543: FutureWarning: Passing (type, 1) or '1type' as a synonym of type is deprecated; in a future version of numpy, it will be understood as (type, (1,)) / '(1,)type'.\n",
      "  _np_qint16 = np.dtype([(\"qint16\", np.int16, 1)])\n",
      "/home/isidro/anaconda3/lib/python3.7/site-packages/tensorboard/compat/tensorflow_stub/dtypes.py:544: FutureWarning: Passing (type, 1) or '1type' as a synonym of type is deprecated; in a future version of numpy, it will be understood as (type, (1,)) / '(1,)type'.\n",
      "  _np_quint16 = np.dtype([(\"quint16\", np.uint16, 1)])\n",
      "/home/isidro/anaconda3/lib/python3.7/site-packages/tensorboard/compat/tensorflow_stub/dtypes.py:545: FutureWarning: Passing (type, 1) or '1type' as a synonym of type is deprecated; in a future version of numpy, it will be understood as (type, (1,)) / '(1,)type'.\n",
      "  _np_qint32 = np.dtype([(\"qint32\", np.int32, 1)])\n",
      "/home/isidro/anaconda3/lib/python3.7/site-packages/tensorboard/compat/tensorflow_stub/dtypes.py:550: FutureWarning: Passing (type, 1) or '1type' as a synonym of type is deprecated; in a future version of numpy, it will be understood as (type, (1,)) / '(1,)type'.\n",
      "  np_resource = np.dtype([(\"resource\", np.ubyte, 1)])\n"
     ]
    }
   ],
   "source": [
    "import tensorflow.keras\n",
    "import tensorflow as tf\n",
    "from matplotlib import pyplot as plt\n",
    "import numpy as np\n",
    "import gzip\n",
    "%matplotlib inline\n",
    "from tensorflow.keras.layers import Input,Conv2D,MaxPooling2D,UpSampling2D, Dense\n",
    "from tensorflow.keras.models import Model\n",
    "from tensorflow.keras.optimizers import RMSprop\n",
    "import pandas as pd\n",
    "from sklearn.preprocessing import StandardScaler, MinMaxScaler\n",
    "from tensorflow.keras.optimizers import Adam\n",
    "from tensorflow.keras.initializers import Constant, RandomNormal\n",
    "import seaborn as sns\n",
    "import matplotlib.pyplot as plt\n",
    "from scipy.misc import derivative\n",
    "import scipy.integrate as intg\n",
    "import scipy as sp\n",
    "from scipy.interpolate import interp1d"
   ]
  },
  {
   "cell_type": "code",
   "execution_count": 4,
   "metadata": {},
   "outputs": [],
   "source": [
    "file = 'data/pantheon.txt'\n",
    "syscov_file = 'data/pantheon_errors.txt'\n",
    "# file = 'data/lcparam_full_long.txt'\n",
    "df = pd.read_csv(file, sep = \" \", usecols=['zcmb', 'mb', 'dmb'])\n",
    "# df = pd.read_csv(file, sep = \" \")\n",
    "dmag = df[['dmb']]\n",
    "df = df[['zcmb', 'mb']]\n",
    "N = len(df.values)\n",
    "syscov = np.loadtxt(syscov_file, skiprows=1).reshape((N, N))\n",
    "cov = np.copy(syscov)"
   ]
  },
  {
   "cell_type": "code",
   "execution_count": 5,
   "metadata": {},
   "outputs": [
    {
     "data": {
      "text/html": [
       "<div>\n",
       "<style scoped>\n",
       "    .dataframe tbody tr th:only-of-type {\n",
       "        vertical-align: middle;\n",
       "    }\n",
       "\n",
       "    .dataframe tbody tr th {\n",
       "        vertical-align: top;\n",
       "    }\n",
       "\n",
       "    .dataframe thead th {\n",
       "        text-align: right;\n",
       "    }\n",
       "</style>\n",
       "<table border=\"1\" class=\"dataframe\">\n",
       "  <thead>\n",
       "    <tr style=\"text-align: right;\">\n",
       "      <th></th>\n",
       "      <th>zcmb</th>\n",
       "      <th>mb</th>\n",
       "    </tr>\n",
       "  </thead>\n",
       "  <tbody>\n",
       "    <tr>\n",
       "      <th>0</th>\n",
       "      <td>0.50349</td>\n",
       "      <td>22.93445</td>\n",
       "    </tr>\n",
       "    <tr>\n",
       "      <th>1</th>\n",
       "      <td>0.49520</td>\n",
       "      <td>22.88020</td>\n",
       "    </tr>\n",
       "    <tr>\n",
       "      <th>2</th>\n",
       "      <td>0.67820</td>\n",
       "      <td>24.03770</td>\n",
       "    </tr>\n",
       "    <tr>\n",
       "      <th>3</th>\n",
       "      <td>0.86720</td>\n",
       "      <td>24.34685</td>\n",
       "    </tr>\n",
       "    <tr>\n",
       "      <th>4</th>\n",
       "      <td>0.79920</td>\n",
       "      <td>24.36050</td>\n",
       "    </tr>\n",
       "  </tbody>\n",
       "</table>\n",
       "</div>"
      ],
      "text/plain": [
       "      zcmb        mb\n",
       "0  0.50349  22.93445\n",
       "1  0.49520  22.88020\n",
       "2  0.67820  24.03770\n",
       "3  0.86720  24.34685\n",
       "4  0.79920  24.36050"
      ]
     },
     "execution_count": 5,
     "metadata": {},
     "output_type": "execute_result"
    }
   ],
   "source": [
    "df.head()"
   ]
  },
  {
   "cell_type": "code",
   "execution_count": 6,
   "metadata": {},
   "outputs": [
    {
     "data": {
      "text/plain": [
       "(1048,)"
      ]
     },
     "execution_count": 6,
     "metadata": {},
     "output_type": "execute_result"
    }
   ],
   "source": [
    "dmag = dmag.values.reshape(N,)\n",
    "np.shape(dmag)"
   ]
  },
  {
   "cell_type": "code",
   "execution_count": 7,
   "metadata": {},
   "outputs": [
    {
     "data": {
      "text/plain": [
       "<seaborn.axisgrid.PairGrid at 0x7f3b1a13ed68>"
      ]
     },
     "execution_count": 7,
     "metadata": {},
     "output_type": "execute_result"
    },
    {
     "data": {
      "image/png": "[encoded data removed]",
      "text/plain": [
       "<Figure size 360x360 with 6 Axes>"
      ]
     },
     "metadata": {
      "needs_background": "light"
     },
     "output_type": "display_data"
    }
   ],
   "source": [
    "sns.pairplot(df, diag_kind=\"kde\")"
   ]
  },
  {
   "cell_type": "code",
   "execution_count": 8,
   "metadata": {},
   "outputs": [
    {
     "data": {
      "text/plain": [
       "(array([   0,    1,    2, ..., 1045, 1046, 1047]),\n",
       " array([   0,    1,    2, ..., 1045, 1046, 1047]))"
      ]
     },
     "execution_count": 8,
     "metadata": {},
     "output_type": "execute_result"
    }
   ],
   "source": [
    "np.shape(dmag), np.shape(cov)\n",
    "np.diag_indices_from(cov)"
   ]
  },
  {
   "cell_type": "code",
   "execution_count": 9,
   "metadata": {},
   "outputs": [],
   "source": [
    "cov[np.diag_indices_from(cov)] += dmag**2\n",
    "xdiag = 1/cov.diagonal() "
   ]
  },
  {
   "cell_type": "code",
   "execution_count": 10,
   "metadata": {},
   "outputs": [
    {
     "name": "stdout",
     "output_type": "stream",
     "text": [
      "(1048,) <class 'numpy.ndarray'>\n"
     ]
    }
   ],
   "source": [
    "sq_errors = np.diag(syscov)\n",
    "print(np.shape(sq_errors), type(sq_errors))"
   ]
  },
  {
   "cell_type": "code",
   "execution_count": 11,
   "metadata": {},
   "outputs": [
    {
     "data": {
      "text/html": [
       "<div>\n",
       "<style scoped>\n",
       "    .dataframe tbody tr th:only-of-type {\n",
       "        vertical-align: middle;\n",
       "    }\n",
       "\n",
       "    .dataframe tbody tr th {\n",
       "        vertical-align: top;\n",
       "    }\n",
       "\n",
       "    .dataframe thead th {\n",
       "        text-align: right;\n",
       "    }\n",
       "</style>\n",
       "<table border=\"1\" class=\"dataframe\">\n",
       "  <thead>\n",
       "    <tr style=\"text-align: right;\">\n",
       "      <th></th>\n",
       "      <th>zcmb</th>\n",
       "      <th>mb</th>\n",
       "      <th>errors</th>\n",
       "    </tr>\n",
       "  </thead>\n",
       "  <tbody>\n",
       "    <tr>\n",
       "      <th>count</th>\n",
       "      <td>1048.000000</td>\n",
       "      <td>1048.000000</td>\n",
       "      <td>1048.000000</td>\n",
       "    </tr>\n",
       "    <tr>\n",
       "      <th>mean</th>\n",
       "      <td>0.322365</td>\n",
       "      <td>20.747108</td>\n",
       "      <td>0.142484</td>\n",
       "    </tr>\n",
       "    <tr>\n",
       "      <th>std</th>\n",
       "      <td>0.285995</td>\n",
       "      <td>2.647864</td>\n",
       "      <td>0.031643</td>\n",
       "    </tr>\n",
       "    <tr>\n",
       "      <th>min</th>\n",
       "      <td>0.010120</td>\n",
       "      <td>13.907450</td>\n",
       "      <td>0.086315</td>\n",
       "    </tr>\n",
       "    <tr>\n",
       "      <th>25%</th>\n",
       "      <td>0.131935</td>\n",
       "      <td>19.607525</td>\n",
       "      <td>0.120915</td>\n",
       "    </tr>\n",
       "    <tr>\n",
       "      <th>50%</th>\n",
       "      <td>0.248800</td>\n",
       "      <td>21.159450</td>\n",
       "      <td>0.137935</td>\n",
       "    </tr>\n",
       "    <tr>\n",
       "      <th>75%</th>\n",
       "      <td>0.422958</td>\n",
       "      <td>22.479638</td>\n",
       "      <td>0.156516</td>\n",
       "    </tr>\n",
       "    <tr>\n",
       "      <th>max</th>\n",
       "      <td>2.260000</td>\n",
       "      <td>26.877000</td>\n",
       "      <td>0.451069</td>\n",
       "    </tr>\n",
       "  </tbody>\n",
       "</table>\n",
       "</div>"
      ],
      "text/plain": [
       "              zcmb           mb       errors\n",
       "count  1048.000000  1048.000000  1048.000000\n",
       "mean      0.322365    20.747108     0.142484\n",
       "std       0.285995     2.647864     0.031643\n",
       "min       0.010120    13.907450     0.086315\n",
       "25%       0.131935    19.607525     0.120915\n",
       "50%       0.248800    21.159450     0.137935\n",
       "75%       0.422958    22.479638     0.156516\n",
       "max       2.260000    26.877000     0.451069"
      ]
     },
     "execution_count": 11,
     "metadata": {},
     "output_type": "execute_result"
    }
   ],
   "source": [
    "df['errors'] = np.sqrt(sq_errors+dmag**2)\n",
    "df.describe()"
   ]
  },
  {
   "cell_type": "code",
   "execution_count": 12,
   "metadata": {},
   "outputs": [],
   "source": [
    "# df['mb'] += 19.36"
   ]
  },
  {
   "cell_type": "code",
   "execution_count": 31,
   "metadata": {},
   "outputs": [
    {
     "data": {
      "text/plain": [
       "(0.0, 2.3)"
      ]
     },
     "execution_count": 31,
     "metadata": {},
     "output_type": "execute_result"
    },
    {
     "data": {
      "image/png": "[encoded data removed]",
      "text/plain": [
       "<Figure size 1000x700 with 1 Axes>"
      ]
     },
     "metadata": {
      "needs_background": "light"
     },
     "output_type": "display_data"
    }
   ],
   "source": [
    "plt.figure(figsize=(10, 7), dpi=100)\n",
    "plt.errorbar(df['zcmb'], df['mb']+19, df['errors'], fmt='g.', markersize=5, label='Observations', alpha=0.5)\n",
    "plt.xlabel(\"Redshift z\", fontsize=20)\n",
    "plt.xticks(fontsize=15)\n",
    "plt.yticks(fontsize=15)\n",
    "# plt.xscale('log')\n",
    "\n",
    "\n",
    "plt.ylabel(\"$\\mu(z)$\", fontsize=20)\n",
    "plt.xlim(0, 2.3)"
   ]
  },
  {
   "cell_type": "code",
   "execution_count": 14,
   "metadata": {},
   "outputs": [],
   "source": [
    "randomize = np.random.permutation(N)\n",
    "data = df.values[randomize]"
   ]
  },
  {
   "cell_type": "code",
   "execution_count": 15,
   "metadata": {},
   "outputs": [],
   "source": [
    "z = data[:,0]\n",
    "y = data[:,1:]\n",
    "# print(randomize)"
   ]
  },
  {
   "cell_type": "code",
   "execution_count": 16,
   "metadata": {},
   "outputs": [],
   "source": [
    "scalerz = StandardScaler()\n",
    "# scalerz = MinMaxScaler(feature_range=(-1,1))\n",
    "# fit scaler on data\n",
    "scalerz.fit(z.reshape(-1,1))\n",
    "# apply transform\n",
    "z = scalerz.transform(z.reshape(-1,1))\n",
    "\n",
    "# scalery = MinMaxScaler(feature_range=(0,1))\n",
    "# scalery = StandardScaler()\n",
    "# scalery.fit(y)\n",
    "# y = scalery.transform(y)"
   ]
  },
  {
   "cell_type": "code",
   "execution_count": 17,
   "metadata": {},
   "outputs": [],
   "source": [
    "split = 0.8\n",
    "ntrain = int(split * len(z))\n",
    "indx = [ntrain]\n",
    "z_train, z_test = np.split(z, indx)\n",
    "y_train, y_test = np.split(y, indx)"
   ]
  },
  {
   "cell_type": "code",
   "execution_count": 18,
   "metadata": {},
   "outputs": [],
   "source": [
    "callbacks = [tf.keras.callbacks.EarlyStopping(monitor='val_loss', mode='min',\n",
    "                                   min_delta=0.0,\n",
    "                                   patience=50.0,\n",
    "                                   restore_best_weights=True)]\n",
    "#                      tf.keras.callbacks.ReduceLROnPlateau(patience=2)]"
   ]
  },
  {
   "cell_type": "code",
   "execution_count": 19,
   "metadata": {},
   "outputs": [
    {
     "name": "stdout",
     "output_type": "stream",
     "text": [
      "WARNING:tensorflow:From /home/isidro/anaconda3/lib/python3.7/site-packages/tensorflow/python/ops/init_ops.py:1251: calling VarianceScaling.__init__ (from tensorflow.python.ops.init_ops) with dtype is deprecated and will be removed in a future version.\n",
      "Instructions for updating:\n",
      "Call initializer instance with the dtype argument instead of passing it to the constructor\n",
      "Model: \"model\"\n",
      "_________________________________________________________________\n",
      "Layer (type)                 Output Shape              Param #   \n",
      "=================================================================\n",
      "input_1 (InputLayer)         [(None, 1)]               0         \n",
      "_________________________________________________________________\n",
      "dense (Dense)                (None, 50)                100       \n",
      "_________________________________________________________________\n",
      "dense_1 (Dense)              (None, 200)               10200     \n",
      "_________________________________________________________________\n",
      "dense_2 (Dense)              (None, 150)               30150     \n",
      "_________________________________________________________________\n",
      "dense_3 (Dense)              (None, 2)                 302       \n",
      "=================================================================\n",
      "Total params: 40,752\n",
      "Trainable params: 40,752\n",
      "Non-trainable params: 0\n",
      "_________________________________________________________________\n"
     ]
    }
   ],
   "source": [
    "def model(input_z):\n",
    "    efirst = Dense(50, activation='relu', input_shape=(1,))(input_z)\n",
    "    ehidden = Dense(200, activation='relu')(efirst)\n",
    "    ehidden2 = Dense(150, activation='relu')(ehidden)\n",
    "    elast = Dense(2, activation='linear')(ehidden2)\n",
    "\n",
    "\n",
    "    return elast\n",
    "\n",
    "\n",
    "input_z = Input(shape = (1,))\n",
    "neural_model = Model(input_z, model(input_z))\n",
    "neural_model.compile(loss='mean_squared_error', optimizer = \"adam\")\n",
    "neural_model.summary()"
   ]
  },
  {
   "cell_type": "code",
   "execution_count": 20,
   "metadata": {},
   "outputs": [],
   "source": [
    "batch_size = 4\n",
    "epochs = 100\n",
    "input_z = Input(shape = (1,))"
   ]
  },
  {
   "cell_type": "code",
   "execution_count": 21,
   "metadata": {},
   "outputs": [
    {
     "name": "stdout",
     "output_type": "stream",
     "text": [
      "Train on 838 samples, validate on 210 samples\n",
      "Epoch 1/100\n",
      "838/838 [==============================] - 1s 1ms/sample - loss: 46.8966 - val_loss: 4.8457\n",
      "Epoch 2/100\n",
      "838/838 [==============================] - 0s 496us/sample - loss: 1.5913 - val_loss: 0.2362\n",
      "Epoch 3/100\n",
      "838/838 [==============================] - 0s 513us/sample - loss: 0.2342 - val_loss: 0.1799\n",
      "Epoch 4/100\n",
      "838/838 [==============================] - 1s 611us/sample - loss: 0.1767 - val_loss: 0.1549\n",
      "Epoch 5/100\n",
      "838/838 [==============================] - 0s 527us/sample - loss: 0.1485 - val_loss: 0.1419\n",
      "Epoch 6/100\n",
      "838/838 [==============================] - 0s 469us/sample - loss: 0.1327 - val_loss: 0.1413\n",
      "Epoch 7/100\n",
      "838/838 [==============================] - 0s 517us/sample - loss: 0.1196 - val_loss: 0.0760\n",
      "Epoch 8/100\n",
      "838/838 [==============================] - 0s 510us/sample - loss: 0.0883 - val_loss: 0.0981\n",
      "Epoch 9/100\n",
      "838/838 [==============================] - 0s 464us/sample - loss: 0.0803 - val_loss: 0.0560\n",
      "Epoch 10/100\n",
      "838/838 [==============================] - 0s 472us/sample - loss: 0.1076 - val_loss: 0.0783\n",
      "Epoch 11/100\n",
      "838/838 [==============================] - 0s 459us/sample - loss: 0.0821 - val_loss: 0.0421\n",
      "Epoch 12/100\n",
      "838/838 [==============================] - 0s 492us/sample - loss: 0.0822 - val_loss: 0.0547\n",
      "Epoch 13/100\n",
      "838/838 [==============================] - 0s 548us/sample - loss: 0.0557 - val_loss: 0.0373\n",
      "Epoch 14/100\n",
      "838/838 [==============================] - 0s 508us/sample - loss: 0.0914 - val_loss: 0.0766\n",
      "Epoch 15/100\n",
      "838/838 [==============================] - 0s 533us/sample - loss: 0.0832 - val_loss: 0.0607\n",
      "Epoch 16/100\n",
      "838/838 [==============================] - 0s 496us/sample - loss: 0.1021 - val_loss: 0.0600\n",
      "Epoch 17/100\n",
      "838/838 [==============================] - 0s 493us/sample - loss: 0.0593 - val_loss: 0.0297\n",
      "Epoch 18/100\n",
      "838/838 [==============================] - 0s 482us/sample - loss: 0.0565 - val_loss: 0.0934\n",
      "Epoch 19/100\n",
      "838/838 [==============================] - 0s 480us/sample - loss: 0.2238 - val_loss: 0.0298\n",
      "Epoch 20/100\n",
      "838/838 [==============================] - 0s 540us/sample - loss: 0.0827 - val_loss: 0.0692\n",
      "Epoch 21/100\n",
      "838/838 [==============================] - 0s 533us/sample - loss: 0.0595 - val_loss: 0.0266\n",
      "Epoch 22/100\n",
      "838/838 [==============================] - 0s 548us/sample - loss: 0.0941 - val_loss: 0.4693\n",
      "Epoch 23/100\n",
      "838/838 [==============================] - 0s 505us/sample - loss: 0.0752 - val_loss: 0.0385\n",
      "Epoch 24/100\n",
      "838/838 [==============================] - 0s 512us/sample - loss: 0.0472 - val_loss: 0.0309\n",
      "Epoch 25/100\n",
      "838/838 [==============================] - 0s 509us/sample - loss: 0.0777 - val_loss: 0.0388\n",
      "Epoch 26/100\n",
      "838/838 [==============================] - 0s 537us/sample - loss: 0.0390 - val_loss: 0.0316\n",
      "Epoch 27/100\n",
      "838/838 [==============================] - 0s 507us/sample - loss: 0.0572 - val_loss: 0.0321\n",
      "Epoch 28/100\n",
      "838/838 [==============================] - 0s 452us/sample - loss: 0.0534 - val_loss: 0.0189\n",
      "Epoch 29/100\n",
      "838/838 [==============================] - 0s 487us/sample - loss: 0.0461 - val_loss: 0.0430\n",
      "Epoch 30/100\n",
      "838/838 [==============================] - 0s 470us/sample - loss: 0.1093 - val_loss: 0.1115\n",
      "Epoch 31/100\n",
      "838/838 [==============================] - 0s 454us/sample - loss: 0.0667 - val_loss: 0.0230\n",
      "Epoch 32/100\n",
      "838/838 [==============================] - 0s 493us/sample - loss: 0.0580 - val_loss: 0.0256\n",
      "Epoch 33/100\n",
      "838/838 [==============================] - 0s 466us/sample - loss: 0.0771 - val_loss: 0.0523\n",
      "Epoch 34/100\n",
      "838/838 [==============================] - 0s 460us/sample - loss: 0.0416 - val_loss: 0.0862\n",
      "Epoch 35/100\n",
      "838/838 [==============================] - 0s 508us/sample - loss: 0.1676 - val_loss: 0.3888\n",
      "Epoch 36/100\n",
      "838/838 [==============================] - 0s 485us/sample - loss: 0.3415 - val_loss: 0.1140\n",
      "Epoch 37/100\n",
      "838/838 [==============================] - 0s 508us/sample - loss: 0.0885 - val_loss: 0.0734\n",
      "Epoch 38/100\n",
      "838/838 [==============================] - 0s 514us/sample - loss: 0.0723 - val_loss: 0.0573\n",
      "Epoch 39/100\n",
      "838/838 [==============================] - 0s 494us/sample - loss: 0.0759 - val_loss: 0.0417\n",
      "Epoch 40/100\n",
      "838/838 [==============================] - 0s 497us/sample - loss: 0.0935 - val_loss: 0.0840\n",
      "Epoch 41/100\n",
      "838/838 [==============================] - 0s 453us/sample - loss: 0.0720 - val_loss: 0.0531\n",
      "Epoch 42/100\n",
      "838/838 [==============================] - 0s 501us/sample - loss: 0.1018 - val_loss: 0.0500\n",
      "Epoch 43/100\n",
      "838/838 [==============================] - 0s 585us/sample - loss: 0.0883 - val_loss: 0.0457\n",
      "Epoch 44/100\n",
      "838/838 [==============================] - 0s 466us/sample - loss: 0.1123 - val_loss: 0.0401\n",
      "Epoch 45/100\n",
      "838/838 [==============================] - 0s 465us/sample - loss: 0.0633 - val_loss: 0.0342\n",
      "Epoch 46/100\n",
      "838/838 [==============================] - 0s 474us/sample - loss: 0.1067 - val_loss: 0.0388\n",
      "Epoch 47/100\n",
      "838/838 [==============================] - 0s 476us/sample - loss: 0.0916 - val_loss: 0.2130\n",
      "Epoch 48/100\n",
      "838/838 [==============================] - 0s 487us/sample - loss: 0.1266 - val_loss: 0.0336\n",
      "Epoch 49/100\n",
      "838/838 [==============================] - 0s 464us/sample - loss: 0.0599 - val_loss: 0.0349\n",
      "Epoch 50/100\n",
      "838/838 [==============================] - 0s 465us/sample - loss: 0.0717 - val_loss: 0.0898\n",
      "Epoch 51/100\n",
      "838/838 [==============================] - 0s 465us/sample - loss: 0.0834 - val_loss: 0.0348\n",
      "Epoch 52/100\n",
      "838/838 [==============================] - 0s 473us/sample - loss: 0.0660 - val_loss: 0.1209\n",
      "Epoch 53/100\n",
      "838/838 [==============================] - 0s 466us/sample - loss: 0.0658 - val_loss: 0.0380\n",
      "Epoch 54/100\n",
      "838/838 [==============================] - 0s 456us/sample - loss: 0.0587 - val_loss: 0.0999\n",
      "Epoch 55/100\n",
      "838/838 [==============================] - 0s 491us/sample - loss: 0.0926 - val_loss: 0.0410\n",
      "Epoch 56/100\n",
      "838/838 [==============================] - 0s 505us/sample - loss: 0.0681 - val_loss: 0.0355\n",
      "Epoch 57/100\n",
      "838/838 [==============================] - 0s 461us/sample - loss: 0.1403 - val_loss: 0.0355\n",
      "Epoch 58/100\n",
      "838/838 [==============================] - 0s 492us/sample - loss: 0.0670 - val_loss: 0.0367\n",
      "Epoch 59/100\n",
      "838/838 [==============================] - 0s 447us/sample - loss: 0.0428 - val_loss: 0.0448\n",
      "Epoch 60/100\n",
      "838/838 [==============================] - 0s 445us/sample - loss: 0.0560 - val_loss: 0.0246\n",
      "Epoch 61/100\n",
      "838/838 [==============================] - 0s 492us/sample - loss: 0.0442 - val_loss: 0.0199\n",
      "Epoch 62/100\n",
      "838/838 [==============================] - 0s 459us/sample - loss: 0.0345 - val_loss: 0.0550\n",
      "Epoch 63/100\n",
      "838/838 [==============================] - 0s 446us/sample - loss: 0.0451 - val_loss: 0.0457\n",
      "Epoch 64/100\n",
      "838/838 [==============================] - 0s 460us/sample - loss: 0.0627 - val_loss: 0.0291\n",
      "Epoch 65/100\n",
      "838/838 [==============================] - 0s 459us/sample - loss: 0.0358 - val_loss: 0.0299\n",
      "Epoch 66/100\n",
      "838/838 [==============================] - 0s 464us/sample - loss: 0.0388 - val_loss: 0.0300\n",
      "Epoch 67/100\n",
      "838/838 [==============================] - 0s 461us/sample - loss: 0.0316 - val_loss: 0.0333\n",
      "Epoch 68/100\n",
      "838/838 [==============================] - 0s 448us/sample - loss: 0.1045 - val_loss: 0.5004\n",
      "Epoch 69/100\n",
      "838/838 [==============================] - 0s 449us/sample - loss: 0.1190 - val_loss: 0.0258\n",
      "Epoch 70/100\n",
      "838/838 [==============================] - 0s 462us/sample - loss: 0.0501 - val_loss: 0.0570\n",
      "Epoch 71/100\n",
      "838/838 [==============================] - 0s 462us/sample - loss: 0.0304 - val_loss: 0.0267\n",
      "Epoch 72/100\n",
      "838/838 [==============================] - 0s 479us/sample - loss: 0.0332 - val_loss: 0.0530\n",
      "Epoch 73/100\n",
      "838/838 [==============================] - 0s 456us/sample - loss: 0.0511 - val_loss: 0.0460\n",
      "Epoch 74/100\n",
      "838/838 [==============================] - 0s 458us/sample - loss: 0.0305 - val_loss: 0.0339\n",
      "Epoch 75/100\n",
      "838/838 [==============================] - 0s 452us/sample - loss: 0.0368 - val_loss: 0.1238\n",
      "Epoch 76/100\n",
      "838/838 [==============================] - 0s 455us/sample - loss: 0.0380 - val_loss: 0.0427\n",
      "Epoch 77/100\n",
      "838/838 [==============================] - 0s 506us/sample - loss: 0.0518 - val_loss: 0.0692\n"
     ]
    },
    {
     "name": "stdout",
     "output_type": "stream",
     "text": [
      "Epoch 78/100\n",
      "838/838 [==============================] - 0s 456us/sample - loss: 0.0765 - val_loss: 0.0233\n",
      "Epoch 79/100\n",
      "838/838 [==============================] - 0s 496us/sample - loss: 0.0464 - val_loss: 0.0468\n",
      "Epoch 80/100\n",
      "838/838 [==============================] - 0s 440us/sample - loss: 0.1333 - val_loss: 0.0775\n",
      "Epoch 81/100\n",
      "838/838 [==============================] - 0s 446us/sample - loss: 0.0388 - val_loss: 0.0242\n",
      "Epoch 82/100\n",
      "838/838 [==============================] - 0s 469us/sample - loss: 0.0303 - val_loss: 0.0486\n",
      "Epoch 83/100\n",
      "838/838 [==============================] - 0s 447us/sample - loss: 0.0388 - val_loss: 0.0184\n",
      "Epoch 84/100\n",
      "838/838 [==============================] - 0s 463us/sample - loss: 0.0287 - val_loss: 0.0301\n",
      "Epoch 85/100\n",
      "838/838 [==============================] - 0s 452us/sample - loss: 0.0436 - val_loss: 0.0296\n",
      "Epoch 86/100\n",
      "838/838 [==============================] - 0s 471us/sample - loss: 0.0309 - val_loss: 0.0225\n",
      "Epoch 87/100\n",
      "838/838 [==============================] - 0s 451us/sample - loss: 0.0437 - val_loss: 0.0394\n",
      "Epoch 88/100\n",
      "838/838 [==============================] - 0s 433us/sample - loss: 0.0616 - val_loss: 0.0297\n",
      "Epoch 89/100\n",
      "838/838 [==============================] - 0s 445us/sample - loss: 0.0289 - val_loss: 0.0267\n",
      "Epoch 90/100\n",
      "838/838 [==============================] - 0s 463us/sample - loss: 0.1420 - val_loss: 0.6673\n",
      "Epoch 91/100\n",
      "838/838 [==============================] - 0s 441us/sample - loss: 0.1346 - val_loss: 0.0611\n",
      "Epoch 92/100\n",
      "838/838 [==============================] - 0s 439us/sample - loss: 0.0336 - val_loss: 0.0953\n",
      "Epoch 93/100\n",
      "838/838 [==============================] - 0s 443us/sample - loss: 0.0472 - val_loss: 0.0217\n",
      "Epoch 94/100\n",
      "838/838 [==============================] - 0s 444us/sample - loss: 0.0353 - val_loss: 0.0274\n",
      "Epoch 95/100\n",
      "838/838 [==============================] - 0s 459us/sample - loss: 0.0286 - val_loss: 0.0218\n",
      "Epoch 96/100\n",
      "838/838 [==============================] - 0s 460us/sample - loss: 0.0481 - val_loss: 0.0184\n",
      "Epoch 97/100\n",
      "838/838 [==============================] - 0s 485us/sample - loss: 0.0270 - val_loss: 0.0214\n",
      "Epoch 98/100\n",
      "838/838 [==============================] - 0s 477us/sample - loss: 0.1217 - val_loss: 0.0998\n",
      "Epoch 99/100\n",
      "838/838 [==============================] - 0s 463us/sample - loss: 0.0324 - val_loss: 0.0311\n",
      "Epoch 100/100\n",
      "838/838 [==============================] - 0s 467us/sample - loss: 0.0248 - val_loss: 0.0184\n"
     ]
    }
   ],
   "source": [
    "model_train = neural_model.fit(z_train, y_train, batch_size=batch_size,\n",
    "                                    epochs=epochs,verbose=1,\n",
    "                                    validation_data=(z_test, y_test))\n",
    "#                                     callbacks=callbacks)"
   ]
  },
  {
   "cell_type": "code",
   "execution_count": 22,
   "metadata": {},
   "outputs": [
    {
     "data": {
      "text/plain": [
       "<matplotlib.legend.Legend at 0x7f3acc70e710>"
      ]
     },
     "execution_count": 22,
     "metadata": {},
     "output_type": "execute_result"
    },
    {
     "data": {
      "image/png": "[encoded data removed]",
      "text/plain": [
       "<Figure size 300x200 with 1 Axes>"
      ]
     },
     "metadata": {
      "needs_background": "light"
     },
     "output_type": "display_data"
    }
   ],
   "source": [
    "plt.figure(figsize=(3, 2), dpi=100)\n",
    "\n",
    "plt.plot(model_train.history['loss'], color='r', )\n",
    "plt.plot(model_train.history['val_loss'], color='g')\n",
    "\n",
    "plt.ylabel('MSE', fontsize=11)\n",
    "plt.xlabel('Epoch', fontsize=11)\n",
    "plt.legend(['training set', 'validation set'], loc='upper right', fontsize=12)\n",
    "# plt.savefig('loss_hz.png')"
   ]
  },
  {
   "cell_type": "code",
   "execution_count": 23,
   "metadata": {},
   "outputs": [],
   "source": [
    "# neural_model.save('FFNN_Hz.h5')"
   ]
  },
  {
   "cell_type": "code",
   "execution_count": 24,
   "metadata": {},
   "outputs": [
    {
     "data": {
      "text/plain": [
       "array([[21.836983  ,  0.16007781],\n",
       "       [21.009424  ,  0.1529166 ],\n",
       "       [16.32013   ,  0.14510721],\n",
       "       [22.0884    ,  0.16215733],\n",
       "       [21.429892  ,  0.15680064],\n",
       "       [23.265064  ,  0.1729897 ],\n",
       "       [23.25888   ,  0.1729246 ],\n",
       "       [21.945007  ,  0.16095264],\n",
       "       [24.338562  ,  0.19798338],\n",
       "       [15.173166  ,  0.15546829],\n",
       "       [23.963987  ,  0.1875239 ],\n",
       "       [15.900441  ,  0.14895502],\n",
       "       [14.94443   ,  0.15747473],\n",
       "       [22.930735  ,  0.169511  ],\n",
       "       [17.16313   ,  0.13714278],\n",
       "       [20.56331   ,  0.14802416],\n",
       "       [21.963789  ,  0.16110426],\n",
       "       [15.15578   ,  0.1556208 ],\n",
       "       [20.97028   ,  0.1524885 ],\n",
       "       [20.776096  ,  0.15036696],\n",
       "       [15.745818  ,  0.15037265],\n",
       "       [21.569246  ,  0.15791954],\n",
       "       [23.04237   ,  0.1706658 ],\n",
       "       [19.116308  ,  0.13002954],\n",
       "       [21.043404  ,  0.15328786],\n",
       "       [19.680416  ,  0.13446328],\n",
       "       [22.88338   ,  0.16902135],\n",
       "       [23.885471  ,  0.18593967],\n",
       "       [22.548079  ,  0.16603908],\n",
       "       [19.57966   ,  0.13332999],\n",
       "       [21.14513   ,  0.15429175],\n",
       "       [19.946339  ,  0.13848412],\n",
       "       [17.547771  ,  0.13450547],\n",
       "       [21.420498  ,  0.15672478],\n",
       "       [21.476475  ,  0.15717436],\n",
       "       [24.708662  ,  0.20947793],\n",
       "       [18.428661  ,  0.13042638],\n",
       "       [18.102318  ,  0.13136867],\n",
       "       [21.008715  ,  0.15290937],\n",
       "       [24.625374  ,  0.20689076],\n",
       "       [19.044779  ,  0.12994254],\n",
       "       [23.871826  ,  0.18562336],\n",
       "       [20.345432  ,  0.14465502],\n",
       "       [20.428919  ,  0.14594659],\n",
       "       [15.2962265 ,  0.15438867],\n",
       "       [22.978086  ,  0.17000094],\n",
       "       [21.340757  ,  0.15603945],\n",
       "       [22.013893  ,  0.16150978],\n",
       "       [18.322638  ,  0.13071908],\n",
       "       [22.101547  ,  0.16227752],\n",
       "       [23.280102  ,  0.17315018],\n",
       "       [19.903183  ,  0.13781714],\n",
       "       [17.756561  ,  0.13267004],\n",
       "       [21.666325  ,  0.15869954],\n",
       "       [20.77761   ,  0.15038392],\n",
       "       [20.98242   ,  0.15262145],\n",
       "       [19.744686  ,  0.13538948],\n",
       "       [22.443047  ,  0.16519533],\n",
       "       [15.044755  ,  0.15659478],\n",
       "       [20.919815  ,  0.15193784],\n",
       "       [16.154795  ,  0.14662261],\n",
       "       [20.078758  ,  0.14053202],\n",
       "       [21.78845   ,  0.15968454],\n",
       "       [20.70186   ,  0.14955565],\n",
       "       [20.959665  ,  0.15237278],\n",
       "       [21.433022  ,  0.1568256 ],\n",
       "       [22.099277  ,  0.16225623],\n",
       "       [20.36602   ,  0.14497417],\n",
       "       [24.11491   ,  0.19103831],\n",
       "       [20.571798  ,  0.14813486],\n",
       "       [21.040068  ,  0.15325168],\n",
       "       [23.132742  ,  0.17160115],\n",
       "       [21.783752  ,  0.15964629],\n",
       "       [24.250004  ,  0.19523382],\n",
       "       [18.70745   ,  0.13012204],\n",
       "       [16.90377   ,  0.13958669],\n",
       "       [20.445137  ,  0.14619711],\n",
       "       [22.37193   ,  0.16460507],\n",
       "       [21.631882  ,  0.15842274],\n",
       "       [16.4955    ,  0.1434987 ],\n",
       "       [22.4137    ,  0.16495132],\n",
       "       [21.76966   ,  0.15953231],\n",
       "       [21.694513  ,  0.15892568],\n",
       "       [23.339346  ,  0.17378047],\n",
       "       [18.669739  ,  0.13018128],\n",
       "       [19.56031   ,  0.13314295],\n",
       "       [23.816917  ,  0.18434918],\n",
       "       [14.828727  ,  0.15848926],\n",
       "       [21.265541  ,  0.15536699],\n",
       "       [21.164442  ,  0.15446383],\n",
       "       [16.5042    ,  0.14341857],\n",
       "       [21.430126  ,  0.15680212],\n",
       "       [17.618868  ,  0.13383996],\n",
       "       [16.51558   ,  0.14331418],\n",
       "       [15.676876  ,  0.15100467],\n",
       "       [19.026888  ,  0.12993166],\n",
       "       [23.748693  ,  0.18276641],\n",
       "       [21.534801  ,  0.15764317],\n",
       "       [21.92857   ,  0.16081917],\n",
       "       [16.354265  ,  0.14479363],\n",
       "       [21.706253  ,  0.15902072],\n",
       "       [15.337695  ,  0.15402466],\n",
       "       [24.083298  ,  0.19006306],\n",
       "       [18.66435   ,  0.13018903],\n",
       "       [16.267248  ,  0.1455915 ],\n",
       "       [21.840897  ,  0.1601091 ],\n",
       "       [21.418226  ,  0.15670699],\n",
       "       [22.23477   ,  0.16346559],\n",
       "       [16.524282  ,  0.1432347 ],\n",
       "       [20.768713  ,  0.15028602],\n",
       "       [22.444218  ,  0.1652053 ],\n",
       "       [19.860313  ,  0.13715369],\n",
       "       [19.68933   ,  0.13457833],\n",
       "       [19.3198    ,  0.13088396],\n",
       "       [21.944693  ,  0.1609495 ],\n",
       "       [15.044085  ,  0.1566005 ],\n",
       "       [24.521854  ,  0.20367566],\n",
       "       [23.741545  ,  0.18260032],\n",
       "       [19.694487  ,  0.13464554],\n",
       "       [24.58585   ,  0.20566338],\n",
       "       [16.168852  ,  0.14649352],\n",
       "       [21.080828  ,  0.15369678],\n",
       "       [15.860279  ,  0.14932302],\n",
       "       [19.974121  ,  0.13891417],\n",
       "       [17.94348   ,  0.1318722 ],\n",
       "       [20.06818   ,  0.14036834],\n",
       "       [20.75263   ,  0.15011078],\n",
       "       [21.553589  ,  0.15779424],\n",
       "       [19.811092  ,  0.13639969],\n",
       "       [22.07807   ,  0.1620639 ],\n",
       "       [21.595085  ,  0.15812731],\n",
       "       [22.543745  ,  0.16600734],\n",
       "       [18.815453  ,  0.12995622],\n",
       "       [15.946624  ,  0.14853153],\n",
       "       [24.1054    ,  0.19074236],\n",
       "       [23.173496  ,  0.17202276],\n",
       "       [22.75523   ,  0.167696  ],\n",
       "       [20.258562  ,  0.14331198],\n",
       "       [19.191784  ,  0.13023517],\n",
       "       [22.4677    ,  0.16540065],\n",
       "       [20.773872  ,  0.15034243],\n",
       "       [23.107052  ,  0.17133567],\n",
       "       [23.178585  ,  0.17207476],\n",
       "       [24.117573  ,  0.1911202 ],\n",
       "       [19.885418  ,  0.13754219],\n",
       "       [23.738817  ,  0.18253703],\n",
       "       [23.980038  ,  0.18784347],\n",
       "       [15.113644  ,  0.15599005],\n",
       "       [15.590529  ,  0.15179658],\n",
       "       [20.017836  ,  0.13959005],\n",
       "       [21.07142   ,  0.15359402],\n",
       "       [20.775595  ,  0.15036115],\n",
       "       [22.179806  ,  0.1629881 ],\n",
       "       [15.7933445 ,  0.1499372 ],\n",
       "       [19.91362   ,  0.1379782 ],\n",
       "       [22.090275  ,  0.16217443],\n",
       "       [22.979095  ,  0.17001194],\n",
       "       [21.587257  ,  0.15806416],\n",
       "       [23.057484  ,  0.17082256],\n",
       "       [21.34369   ,  0.15606597],\n",
       "       [20.362497  ,  0.14491951],\n",
       "       [24.1478    ,  0.1920595 ],\n",
       "       [19.247313  ,  0.1304286 ],\n",
       "       [21.743048  ,  0.15931723],\n",
       "       [24.235792  ,  0.19479162],\n",
       "       [21.462772  ,  0.15706387],\n",
       "       [21.29284   ,  0.15561086],\n",
       "       [22.72374   ,  0.16737023],\n",
       "       [19.51387   ,  0.13269243],\n",
       "       [19.134401  ,  0.1300785 ],\n",
       "       [24.091997  ,  0.19032615],\n",
       "       [24.190784  ,  0.19339469],\n",
       "       [20.215408  ,  0.14264496],\n",
       "       [21.76966   ,  0.15953231],\n",
       "       [21.038551  ,  0.15323523],\n",
       "       [15.730425  ,  0.15051365],\n",
       "       [20.27732   ,  0.14360234],\n",
       "       [16.123339  ,  0.1469107 ],\n",
       "       [21.937958  ,  0.16089481],\n",
       "       [19.779404  ,  0.13592482],\n",
       "       [22.122755  ,  0.1624695 ],\n",
       "       [19.344881  ,  0.13105676],\n",
       "       [18.274559  ,  0.13086677],\n",
       "       [16.300049  ,  0.14529046],\n",
       "       [19.269814  ,  0.13056979],\n",
       "       [17.22541   ,  0.13660645],\n",
       "       [23.047405  ,  0.17071813],\n",
       "       [21.999722  ,  0.16139525],\n",
       "       [19.442919  ,  0.13200611],\n",
       "       [23.613926  ,  0.17964005],\n",
       "       [22.125416  ,  0.16249421],\n",
       "       [24.561668  ,  0.20491275],\n",
       "       [21.406404  ,  0.15661165],\n",
       "       [22.374401  ,  0.1646254 ],\n",
       "       [23.90433   ,  0.1863363 ],\n",
       "       [21.846378  ,  0.16015372],\n",
       "       [15.541684  ,  0.15223518],\n",
       "       [20.147718  ,  0.14159822],\n",
       "       [21.273628  ,  0.15543978],\n",
       "       [24.443344  ,  0.201238  ],\n",
       "       [15.78799   ,  0.14998609],\n",
       "       [22.92469   ,  0.16944939],\n",
       "       [22.991993  ,  0.1701451 ],\n",
       "       [21.242897  ,  0.15516531],\n",
       "       [15.945289  ,  0.14854386],\n",
       "       [21.361488  ,  0.15622506],\n",
       "       [22.018589  ,  0.16154808],\n",
       "       [15.378492  ,  0.15366668],\n",
       "       [21.191738  ,  0.15470758],\n",
       "       [21.999489  ,  0.16139318]], dtype=float32)"
      ]
     },
     "execution_count": 24,
     "metadata": {},
     "output_type": "execute_result"
    }
   ],
   "source": [
    "pred = neural_model.predict(z_test)\n",
    "pred"
   ]
  },
  {
   "cell_type": "code",
   "execution_count": 32,
   "metadata": {},
   "outputs": [],
   "source": [
    "# ranz = np.random.uniform(0, 2, size=10000)\n",
    "ranz = np.linspace(0, 2.5, 1000)\n",
    "r = scalerz.transform(ranz.reshape(-1, 1))\n",
    "pred_random = neural_model.predict(r)\n",
    "rr = scalerz.inverse_transform(r.reshape(-1,1))"
   ]
  },
  {
   "cell_type": "code",
   "execution_count": 33,
   "metadata": {},
   "outputs": [
    {
     "data": {
      "text/plain": [
       "(0.0, 2.3)"
      ]
     },
     "execution_count": 33,
     "metadata": {},
     "output_type": "execute_result"
    },
    {
     "data": {
      "image/png": "[encoded data removed]",
      "text/plain": [
       "<Figure size 1000x700 with 1 Axes>"
      ]
     },
     "metadata": {
      "needs_background": "light"
     },
     "output_type": "display_data"
    }
   ],
   "source": [
    "plt.figure(figsize=(10, 7), dpi=100)\n",
    "plt.errorbar(df['zcmb'], df['mb'], df['errors'], fmt='g.', markersize=15, label='Observations', alpha=0.5)\n",
    "plt.errorbar(rr, pred_random[:,0], pred_random[:,1], markersize=2, fmt='o', \n",
    "             ecolor='r', capthick=2, elinewidth=0.8, alpha=0.5, c='m')\n",
    "plt.xlabel(\"Redshift z\", fontsize=20)\n",
    "plt.xticks(fontsize=15)\n",
    "plt.yticks(fontsize=15)\n",
    "\n",
    "\n",
    "plt.ylabel(\"$\\mu(z)$\", fontsize=20)\n",
    "plt.xlim(0, 2.3)\n",
    "# plt.savefig(\"20_epochs_HD.png\")"
   ]
  },
  {
   "cell_type": "code",
   "execution_count": 34,
   "metadata": {},
   "outputs": [],
   "source": [
    "def RHSquared_a_owacdm(a, w0, wa, Om):\n",
    "    rhow = a**(-3*(1.0+w0+wa))*np.exp(-3*wa*(1-a))\n",
    "    return (Om/a**3+(1.0-Om)*rhow)\n",
    "\n",
    "def DistIntegrand_a(a, w0, wa, Om):\n",
    "        return 1./np.sqrt(RHSquared_a_owacdm(a, w0, wa, Om))/a**2\n",
    "    \n",
    "def Da_z(z, w0, wa, Om):\n",
    "        r = intg.quad(DistIntegrand_a, 1./(1+z), 1, args=(w0, wa, Om))\n",
    "        r = r[0]\n",
    "        return r\n",
    "\n",
    "### Hay que revisar esta constante en el return\n",
    "def distance_modulus(z, w0=-1, wa=0.0, Om=0.23):\n",
    "    return 5*np.log10(Da_z(z, w0, wa, Om)*(1+z))+24\n",
    "# +43\n",
    "\n",
    "zmodel = np.linspace(0.01, 2.4, 100)\n",
    "flcdm = []\n",
    "# fowacdm1 = []\n",
    "# fowacdm2 = []\n",
    "# fowacdm3 = []\n",
    "\n",
    "om = 0.27\n",
    "for zzz in zmodel:\n",
    "    flcdm.append(distance_modulus(zzz, w0=-1, wa=0, Om=om))\n",
    "\n",
    "#     fowacdm1.append(distance_modulus(zzz, w0=-1.3, wa=1.2))\n",
    "#     fowacdm1.append(distance_modulus(zzz, w0=-1.09, wa=0.3, Om=om))\n",
    "#     fowacdm2.append(distance_modulus(zzz, w0=-1.04, wa=-0.3, Om=om))\n",
    "#     fowacdm3.append(distance_modulus(zz, model='owacdm', w0=-1, wa=0.0))\n",
    "    \n",
    "flcdm = np.array(flcdm)\n",
    "# fowacdm1 = np.array(fowacdm1)\n",
    "# fowacdm2 = np.array(fowacdm2)\n",
    "# fowacdm3 = np.array(fowacdm3)"
   ]
  },
  {
   "cell_type": "code",
   "execution_count": 35,
   "metadata": {},
   "outputs": [
    {
     "data": {
      "text/plain": [
       "Text(0.5, 0, 'Redshift $z$')"
      ]
     },
     "execution_count": 35,
     "metadata": {},
     "output_type": "execute_result"
    },
    {
     "data": {
      "image/png": "[encoded data removed]",
      "text/plain": [
       "<Figure size 1000x700 with 1 Axes>"
      ]
     },
     "metadata": {
      "needs_background": "light"
     },
     "output_type": "display_data"
    }
   ],
   "source": [
    "plt.figure(figsize=(10, 7), dpi=100)\n",
    "\n",
    "plt.errorbar(df['zcmb'], df['mb'], yerr=df['errors'], fmt='g.', label='Observations')\n",
    "# plt.plot(df['zcmb'], df['mb'], c='g')\n",
    "plt.plot(zmodel, flcdm, label='$\\Lambda CDM$', c='b')\n",
    "plt.errorbar(rr, pred_random[:,0], pred_random[:,1], markersize=2, fmt='o', \n",
    "             ecolor='r', capthick=2, elinewidth=0.8, alpha=0.5, c='m', label='neural')\n",
    "plt.ylabel(\"$\\mu(z)$\", fontsize=14)\n",
    "plt.legend(fontsize=14, loc='lower right', framealpha=0.9, ncol=1)\n",
    "\n",
    "                            \n",
    "\n",
    "\n",
    "plt.xlabel('Redshift $z$', fontsize=14)\n",
    "\n"
   ]
  },
  {
   "cell_type": "code",
   "execution_count": 36,
   "metadata": {},
   "outputs": [
    {
     "name": "stdout",
     "output_type": "stream",
     "text": [
      "Model: \"model_2\"\n",
      "_________________________________________________________________\n",
      "Layer (type)                 Output Shape              Param #   \n",
      "=================================================================\n",
      "input_4 (InputLayer)         [(None, 1)]               0         \n",
      "_________________________________________________________________\n",
      "dense_8 (Dense)              (None, 50)                100       \n",
      "_________________________________________________________________\n",
      "dense_9 (Dense)              (None, 200)               10200     \n",
      "_________________________________________________________________\n",
      "dense_10 (Dense)             (None, 150)               30150     \n",
      "_________________________________________________________________\n",
      "dense_11 (Dense)             (None, 2)                 302       \n",
      "=================================================================\n",
      "Total params: 40,752\n",
      "Trainable params: 40,752\n",
      "Non-trainable params: 0\n",
      "_________________________________________________________________\n"
     ]
    }
   ],
   "source": [
    "def model2(input_z):\n",
    "    x = Dense(50, activation='relu', input_shape=(1,))(input_z)\n",
    "    x = Dense(200, activation='relu')(x)\n",
    "    x = Dense(150, activation='relu')(x)\n",
    "    elast = Dense(2, activation='linear')(x)\n",
    "\n",
    "\n",
    "    return elast\n",
    "\n",
    "\n",
    "input_z = Input(shape = (1,))\n",
    "neural_model2 = Model(input_z, model2(input_z))\n",
    "neural_model2.compile(loss='mean_squared_error', optimizer = \"adam\")\n",
    "neural_model2.summary()"
   ]
  },
  {
   "cell_type": "markdown",
   "metadata": {},
   "source": [
    "#### Ahora usando incertidumbres de la red con Monte Carlo Dropout"
   ]
  },
  {
   "cell_type": "code",
   "execution_count": 37,
   "metadata": {},
   "outputs": [
    {
     "data": {
      "text/plain": [
       "((838, 1), (838, 1), (210, 1), (210, 1))"
      ]
     },
     "execution_count": 37,
     "metadata": {},
     "output_type": "execute_result"
    }
   ],
   "source": [
    "yy = y[:,0].reshape(-1,1)\n",
    "zz = z\n",
    "split = 0.8\n",
    "ntrain = int(split * len(zz))\n",
    "indx = [ntrain]\n",
    "zz_train, zz_test = np.split(zz, indx)\n",
    "yy_train, yy_test = np.split(yy, indx)\n",
    "np.shape(zz_train), np.shape(yy_train), np.shape(zz_test), np.shape(yy_test)"
   ]
  },
  {
   "cell_type": "code",
   "execution_count": null,
   "metadata": {},
   "outputs": [],
   "source": [
    "from astroNN.nn.layers import MCDropout"
   ]
  },
  {
   "cell_type": "code",
   "execution_count": null,
   "metadata": {},
   "outputs": [],
   "source": [
    "def model_regression_dropout(num_hidden):\n",
    "    # Defeine Keras model for regression\n",
    "    model = tf.keras.models.Sequential()\n",
    "    model.add(tf.keras.layers.InputLayer(batch_input_shape=((None, 1))))\n",
    "    model.add(Dense(units=num_hidden[0], \n",
    "#                     kernel_regularizer=tf.keras.regularizers.l2(1e-4),\n",
    "#                     kernel_initializer='he_normal', \n",
    "                    activation='relu'))\n",
    "    model.add(MCDropout(0.3))\n",
    "    model.add(Dense(units=num_hidden[1], \n",
    "#                     kernel_regularizer=tf.keras.regularizers.l2(1e-4),\n",
    "#                     kernel_initializer='he_normal', \n",
    "                    activation='relu'))\n",
    "    model.add(MCDropout(0.3))\n",
    "    model.add(Dense(units=num_hidden[2], \n",
    "#                     kernel_regularizer=tf.keras.regularizers.l2(1e-4),\n",
    "#                     kernel_initializer='he_normal', \n",
    "                    activation='relu'))\n",
    "    model.add(MCDropout(0.3))\n",
    "    model.add(Dense(units=2, activation=\"linear\"))\n",
    "    return model\n",
    "\n",
    "#Define some parameter\n",
    "batch_size = 4\n",
    "# optimizer = Adam(lr=.005)\n",
    "optimizer = Adam(lr=0.0001)\n",
    "\n",
    "\n",
    "# Compile Keras model\n",
    "model = model_regression_dropout(num_hidden=[50, 200, 150])\n",
    "model.compile(loss='mse', optimizer=optimizer) \n",
    "# model2_train = model.fit(zz_train, yy_train, \n",
    "# #                          validation_split=0.0, \n",
    "#                          batch_size=batch_size, epochs=1000, verbose=1,\n",
    "#                          validation_data=(zz_test, yy_test))    \n",
    "model2_train = model.fit(z_train, y_train, batch_size=batch_size,\n",
    "                                    epochs=800,verbose=1,\n",
    "                                    validation_data=(z_test, y_test))"
   ]
  },
  {
   "cell_type": "code",
   "execution_count": null,
   "metadata": {},
   "outputs": [],
   "source": [
    "# Generate test data\n",
    "test_batch_size = 1000\n",
    "# x_test = np.random.uniform(0, 2., test_batch_size)\n",
    "x_test = np.linspace(0, 2., test_batch_size)\n",
    "\n",
    "mc_dropout_num = 100  # Run Dropout 100 times\n",
    "predictions = np.zeros((mc_dropout_num, test_batch_size, 2))\n",
    "uncertainty = np.zeros((mc_dropout_num, test_batch_size, 1))\n",
    "for i in range(mc_dropout_num):\n",
    "    predictions[i] = model.predict(scalerz.transform(x_test.reshape(-1,1)))\n",
    "    \n",
    "# get mean results and its varience\n",
    "prediction_mc_dropout = np.mean(predictions, axis=0)\n",
    "std_mc_dropout = np.std(predictions, axis=0)"
   ]
  },
  {
   "cell_type": "code",
   "execution_count": null,
   "metadata": {},
   "outputs": [],
   "source": [
    "np.mean(std_mc_dropout[:,0]), np.mean(std_mc_dropout[:,1])"
   ]
  },
  {
   "cell_type": "code",
   "execution_count": null,
   "metadata": {},
   "outputs": [],
   "source": [
    "# Plotting\n",
    "plt.figure(figsize=(10, 7), dpi=100)\n",
    "# plt.figure(figsize=(5, 4), dpi=100)\n",
    "sigma = np.sqrt(std_mc_dropout[:, 0]**2 + std_mc_dropout[:, 1]**2+ prediction_mc_dropout[:,1]**2)\n",
    "\n",
    "\n",
    "# plt.scatter(scalerz.inverse_transform(zz), yy, color='k', label='Original cosmic chronometers')\n",
    "plt.plot(zmodel, flcdm, label='$\\Lambda CDM$', c='b')\n",
    "plt.errorbar(df['zcmb'], df['mb'], df['errors'], fmt='g.', markersize=10, label='Observations')\n",
    "plt.errorbar(x_test, prediction_mc_dropout[:,0], yerr=sigma, markersize=2, fmt='o', \n",
    "             ecolor='r', capthick=2, elinewidth=0.8, alpha=0.3, c='m',\n",
    "             label='Synthetic data with $\\sigma$')\n",
    "\n",
    "plt.xlim(0,2)\n",
    "\n",
    "# plt.xlabel('Redshift')\n",
    "# plt.ylabel('$H(z)$')\n",
    "plt.ylabel(\"$\\mu(z)$\", fontsize=20)\n",
    "plt.xlabel(\"Redshift z\", fontsize=20)\n",
    "plt.xticks(fontsize=15)\n",
    "plt.yticks(fontsize=15)\n",
    "# plt.legend(loc='best')\n",
    "plt.legend(loc='upper left')\n",
    "# plt.show()\n",
    "plt.tight_layout()\n"
   ]
  },
  {
   "cell_type": "code",
   "execution_count": null,
   "metadata": {},
   "outputs": [],
   "source": [
    " prediction_mc_dropout[0,:]"
   ]
  },
  {
   "cell_type": "code",
   "execution_count": null,
   "metadata": {},
   "outputs": [],
   "source": [
    "plt.figure(figsize=(3, 2), dpi=100)\n",
    "\n",
    "plt.plot(model2_train.history['loss'], color='r', )\n",
    "plt.plot(model2_train.history['val_loss'], color='g')\n",
    "\n",
    "plt.ylabel('MSE', fontsize=11)\n",
    "plt.xlabel('Epoch', fontsize=11)\n",
    "plt.legend(['training set', 'validation set'], loc='upper right', fontsize=12)\n",
    "plt.xticks(fontsize=10)\n",
    "plt.xticks([])\n",
    "plt.yticks([])\n"
   ]
  },
  {
   "cell_type": "code",
   "execution_count": null,
   "metadata": {},
   "outputs": [],
   "source": [
    "# model.save('FFNN+MC-DO_Hz.h5')\n",
    "# tf.keras.models.save_model(neural_model2, '../models/FFNN_MC_DO.h5' )"
   ]
  },
  {
   "cell_type": "code",
   "execution_count": null,
   "metadata": {},
   "outputs": [],
   "source": [
    "mookdp = np.concatenate((x_test.reshape(-1,1), prediction_mc_dropout), axis=1)\n",
    "\n",
    "# np.savetxt(\"data.dat\",mookdp, delimiter=\" \")"
   ]
  },
  {
   "cell_type": "code",
   "execution_count": null,
   "metadata": {},
   "outputs": [],
   "source": [
    "dfMook = pd.DataFrame(mookdp, columns=['z', 'Hz', 'err'])\n",
    "sns.pairplot(dfMook, diag_kind=\"kde\")\n",
    "# plt.savefig(\"50hdmookdropout.png\")"
   ]
  },
  {
   "cell_type": "code",
   "execution_count": null,
   "metadata": {},
   "outputs": [],
   "source": []
  }
 ],
 "metadata": {
  "kernelspec": {
   "display_name": "Python 3",
   "language": "python",
   "name": "python3"
  },
  "language_info": {
   "codemirror_mode": {
    "name": "ipython",
    "version": 3
   },
   "file_extension": ".py",
   "mimetype": "text/x-python",
   "name": "python",
   "nbconvert_exporter": "python",
   "pygments_lexer": "ipython3",
   "version": "3.7.3"
  }
 },
 "nbformat": 4,
 "nbformat_minor": 2
}
