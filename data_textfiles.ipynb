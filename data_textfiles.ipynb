{
 "cells": [
  {
   "cell_type": "code",
   "execution_count": 6,
   "id": "25507694",
   "metadata": {},
   "outputs": [],
   "source": [
    "import numpy as np\n",
    "import pandas as pd"
   ]
  },
  {
   "cell_type": "markdown",
   "id": "7690a393",
   "metadata": {},
   "source": [
    "## Obtaining diag cov files to JLA and Pantheon "
   ]
  },
  {
   "cell_type": "code",
   "execution_count": 7,
   "id": "ee3aaf18",
   "metadata": {},
   "outputs": [
    {
     "data": {
      "text/plain": [
       "((740, 740), (1048, 1048), (740, 740), (1048, 1048))"
      ]
     },
     "execution_count": 7,
     "metadata": {},
     "output_type": "execute_result"
    }
   ],
   "source": [
    "jlafilecov = '/home/isidro/Documents/github/simplemc_tests/simplemc/data/jla_v0_covmatrix.dat'\n",
    "pantheoncov = '/home/isidro/Documents/github/simplemc_tests/simplemc/data/pantheon_errors.txt'\n",
    "\n",
    "x_pantheon = pd.read_csv('data/not_in _jla.csv', usecols=[0, 1])\n",
    "err_pantheon = pd.read_csv('data/not_in _jla.csv', usecols=[3])\n",
    "\n",
    "jlacov = np.loadtxt(jlafilecov, skiprows=1).reshape(740,740)\n",
    "diagjla = np.diag(jlacov)\n",
    "diagjla = np.diag(diagjla)\n",
    "\n",
    "pantheoncov = np.loadtxt(pantheoncov, skiprows=1).reshape(1048,1048)\n",
    "diagpantheon = np.diag(pantheoncov)\n",
    "diagpantheon = np.diag(diagpantheon)\n",
    "\n",
    "np.shape(jlacov), np.shape(pantheoncov), np.shape(diagjla), np.shape(diagpantheon)"
   ]
  },
  {
   "cell_type": "code",
   "execution_count": 8,
   "id": "5f5f11f3",
   "metadata": {},
   "outputs": [],
   "source": [
    "np.savetxt(\"diag_cov_jla.dat\", diagjla , header=\"#740x740\", delimiter=' ' )\n",
    "np.savetxt(\"diag_cov_pantheon.dat\", diagpantheon , header=\"#1048x1048\", delimiter=' ' )"
   ]
  },
  {
   "cell_type": "markdown",
   "id": "26eaa8e0",
   "metadata": {},
   "source": [
    "## Not in JLA from Pantheont to simplemc format"
   ]
  },
  {
   "cell_type": "code",
   "execution_count": 10,
   "id": "05fa7ed4",
   "metadata": {},
   "outputs": [],
   "source": [
    "np.savetxt(\"not_jla.dat\", x_pantheon.values, header=\"#z mb\", delimiter=' ' )\n",
    "l = len(x_pantheon.values)\n",
    "np.savetxt(\"not_jla_cov.dat\",np.diag(err_pantheon.values.reshape(l,)), header=\"#{}x{}\".format(l, l), delimiter=' ' )"
   ]
  },
  {
   "cell_type": "code",
   "execution_count": 11,
   "id": "694130e7",
   "metadata": {},
   "outputs": [
    {
     "data": {
      "text/plain": [
       "895"
      ]
     },
     "execution_count": 11,
     "metadata": {},
     "output_type": "execute_result"
    }
   ],
   "source": [
    "l"
   ]
  },
  {
   "cell_type": "code",
   "execution_count": null,
   "id": "f77765a9",
   "metadata": {},
   "outputs": [],
   "source": []
  }
 ],
 "metadata": {
  "kernelspec": {
   "display_name": "Python 3",
   "language": "python",
   "name": "python3"
  },
  "language_info": {
   "codemirror_mode": {
    "name": "ipython",
    "version": 3
   },
   "file_extension": ".py",
   "mimetype": "text/x-python",
   "name": "python",
   "nbconvert_exporter": "python",
   "pygments_lexer": "ipython3",
   "version": "3.9.7"
  }
 },
 "nbformat": 4,
 "nbformat_minor": 5
}
