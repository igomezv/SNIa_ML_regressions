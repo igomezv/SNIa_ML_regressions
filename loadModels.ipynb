{
 "cells": [
  {
   "cell_type": "code",
   "execution_count": 1,
   "id": "f8307337",
   "metadata": {},
   "outputs": [
    {
     "name": "stderr",
     "output_type": "stream",
     "text": [
      "2022-05-17 18:56:12.064020: W tensorflow/stream_executor/platform/default/dso_loader.cc:64] Could not load dynamic library 'libcudart.so.11.0'; dlerror: libcudart.so.11.0: cannot open shared object file: No such file or directory; LD_LIBRARY_PATH: /home/isidro/cfitsio/lib:/home/isidro/MultiNest/lib:/home/isidro/cuba/:LD_LIBRARY_PATH:/home/isidro/.openmpi/lib/:/lib\n",
      "2022-05-17 18:56:12.064046: I tensorflow/stream_executor/cuda/cudart_stub.cc:29] Ignore above cudart dlerror if you do not have a GPU set up on your machine.\n"
     ]
    }
   ],
   "source": [
    "import pandas as pd\n",
    "from sklearn.preprocessing import StandardScaler, MinMaxScaler\n",
    "import tensorflow as tf\n",
    "from astroNN.nn.layers import MCDropout\n",
    "import numpy as np\n",
    "import matplotlib.pyplot as plt"
   ]
  },
  {
   "cell_type": "code",
   "execution_count": 2,
   "id": "a5fd53ba",
   "metadata": {},
   "outputs": [],
   "source": [
    "df=pd.read_csv('data/jla.csv')\n",
    "z = df.values[:,0]\n",
    "y = df.values[:,1:]\n",
    "# scaleryerr = MinMaxScaler(feature_range=(0,1))\n",
    "# # scaleryerr = StandardScaler()\n",
    "# scaleryerr.fit(y[:,1].reshape(-1, 1))\n",
    "# y[:,1] = (scaleryerr.transform(y[:,1].reshape(-1, 1))).reshape(1,-1)\n"
   ]
  },
  {
   "cell_type": "code",
   "execution_count": 3,
   "id": "6e8de3be",
   "metadata": {},
   "outputs": [],
   "source": [
    "scalerz = StandardScaler()\n",
    "# scalerz = MinMaxScaler(feature_range=(-1,1))\n",
    "# fit scaler on data\n",
    "scalerz.fit(z.reshape(-1,1))\n",
    "# apply transform\n",
    "z = scalerz.transform(z.reshape(-1,1))"
   ]
  },
  {
   "cell_type": "code",
   "execution_count": 4,
   "id": "c794ebfa",
   "metadata": {},
   "outputs": [],
   "source": [
    "# r = scalerz.transform(z.reshape(-1, 1))\n",
    "# predh = model.predict(r)"
   ]
  },
  {
   "cell_type": "code",
   "execution_count": 5,
   "id": "2e64da01",
   "metadata": {},
   "outputs": [
    {
     "name": "stderr",
     "output_type": "stream",
     "text": [
      "2022-05-17 18:56:14.458771: I tensorflow/stream_executor/cuda/cuda_gpu_executor.cc:936] successful NUMA node read from SysFS had negative value (-1), but there must be at least one NUMA node, so returning NUMA node zero\n",
      "2022-05-17 18:56:14.459674: W tensorflow/stream_executor/platform/default/dso_loader.cc:64] Could not load dynamic library 'libcudart.so.11.0'; dlerror: libcudart.so.11.0: cannot open shared object file: No such file or directory; LD_LIBRARY_PATH: /home/isidro/cfitsio/lib:/home/isidro/MultiNest/lib:/home/isidro/cuba/:LD_LIBRARY_PATH:/home/isidro/.openmpi/lib/:/lib\n",
      "2022-05-17 18:56:14.459823: W tensorflow/stream_executor/platform/default/dso_loader.cc:64] Could not load dynamic library 'libcublas.so.11'; dlerror: libcublas.so.11: cannot open shared object file: No such file or directory; LD_LIBRARY_PATH: /home/isidro/cfitsio/lib:/home/isidro/MultiNest/lib:/home/isidro/cuba/:LD_LIBRARY_PATH:/home/isidro/.openmpi/lib/:/lib\n",
      "2022-05-17 18:56:14.459941: W tensorflow/stream_executor/platform/default/dso_loader.cc:64] Could not load dynamic library 'libcublasLt.so.11'; dlerror: libcublasLt.so.11: cannot open shared object file: No such file or directory; LD_LIBRARY_PATH: /home/isidro/cfitsio/lib:/home/isidro/MultiNest/lib:/home/isidro/cuba/:LD_LIBRARY_PATH:/home/isidro/.openmpi/lib/:/lib\n",
      "2022-05-17 18:56:14.460054: W tensorflow/stream_executor/platform/default/dso_loader.cc:64] Could not load dynamic library 'libcufft.so.10'; dlerror: libcufft.so.10: cannot open shared object file: No such file or directory; LD_LIBRARY_PATH: /home/isidro/cfitsio/lib:/home/isidro/MultiNest/lib:/home/isidro/cuba/:LD_LIBRARY_PATH:/home/isidro/.openmpi/lib/:/lib\n",
      "2022-05-17 18:56:14.460167: W tensorflow/stream_executor/platform/default/dso_loader.cc:64] Could not load dynamic library 'libcurand.so.10'; dlerror: libcurand.so.10: cannot open shared object file: No such file or directory; LD_LIBRARY_PATH: /home/isidro/cfitsio/lib:/home/isidro/MultiNest/lib:/home/isidro/cuba/:LD_LIBRARY_PATH:/home/isidro/.openmpi/lib/:/lib\n",
      "2022-05-17 18:56:14.460277: W tensorflow/stream_executor/platform/default/dso_loader.cc:64] Could not load dynamic library 'libcusolver.so.11'; dlerror: libcusolver.so.11: cannot open shared object file: No such file or directory; LD_LIBRARY_PATH: /home/isidro/cfitsio/lib:/home/isidro/MultiNest/lib:/home/isidro/cuba/:LD_LIBRARY_PATH:/home/isidro/.openmpi/lib/:/lib\n",
      "2022-05-17 18:56:14.460388: W tensorflow/stream_executor/platform/default/dso_loader.cc:64] Could not load dynamic library 'libcusparse.so.11'; dlerror: libcusparse.so.11: cannot open shared object file: No such file or directory; LD_LIBRARY_PATH: /home/isidro/cfitsio/lib:/home/isidro/MultiNest/lib:/home/isidro/cuba/:LD_LIBRARY_PATH:/home/isidro/.openmpi/lib/:/lib\n",
      "2022-05-17 18:56:14.460505: W tensorflow/stream_executor/platform/default/dso_loader.cc:64] Could not load dynamic library 'libcudnn.so.8'; dlerror: libcudnn.so.8: cannot open shared object file: No such file or directory; LD_LIBRARY_PATH: /home/isidro/cfitsio/lib:/home/isidro/MultiNest/lib:/home/isidro/cuba/:LD_LIBRARY_PATH:/home/isidro/.openmpi/lib/:/lib\n",
      "2022-05-17 18:56:14.460519: W tensorflow/core/common_runtime/gpu/gpu_device.cc:1850] Cannot dlopen some GPU libraries. Please make sure the missing libraries mentioned above are installed properly if you would like to use GPU. Follow the guide at https://www.tensorflow.org/install/gpu for how to download and setup the required libraries for your platform.\n",
      "Skipping registering GPU devices...\n",
      "2022-05-17 18:56:14.460799: I tensorflow/core/platform/cpu_feature_guard.cc:151] This TensorFlow binary is optimized with oneAPI Deep Neural Network Library (oneDNN) to use the following CPU instructions in performance-critical operations:  AVX2 FMA\n",
      "To enable them in other operations, rebuild TensorFlow with the appropriate compiler flags.\n"
     ]
    }
   ],
   "source": [
    "ffnn_do = tf.keras.models.load_model('models/FFNN_MCDO4is.h5', custom_objects={'MCDropout': MCDropout})"
   ]
  },
  {
   "cell_type": "markdown",
   "id": "b3815dac",
   "metadata": {},
   "source": [
    "## Now only at the new redshifts (existing in Pantheon but not in JLA and < z_jlamax)"
   ]
  },
  {
   "cell_type": "code",
   "execution_count": 18,
   "id": "6d1aa7f9",
   "metadata": {},
   "outputs": [],
   "source": [
    "znews = pd.read_csv('data/not_in _jla.csv', usecols=[0])\n",
    "dmb = pd.read_csv('data/not_in _jla.csv', usecols=[2])\n",
    "md_pantheon = pd.read_csv('data/not_in _jla.csv', usecols=[1])\n",
    "x_pantheon = pd.read_csv('data/not_in _jla.csv', usecols=[0, 1])\n",
    "err_pantheon = pd.read_csv('data/not_in _jla.csv', usecols=[3])\n",
    "err_total = dmb.values + err_pantheon.values\n",
    "err_total = err_total.reshape"
   ]
  },
  {
   "cell_type": "code",
   "execution_count": 19,
   "id": "514a6c6e",
   "metadata": {},
   "outputs": [],
   "source": [
    "test_batch_size = len(znews)\n",
    "\n",
    "mc_dropout_num = 100  # Run Dropout 100 times\n",
    "predictions = np.zeros((mc_dropout_num, test_batch_size, 2))\n",
    "uncertainty = np.zeros((mc_dropout_num, test_batch_size, 1))\n",
    "\n",
    "for i in range(mc_dropout_num):\n",
    "    predictions[i] = ffnn_do.predict(scalerz.transform(znews.values))\n",
    "    \n",
    "# get mean results and its varience\n",
    "prediction_mc_dropout = np.mean(predictions, axis=0)\n",
    "std_mc_dropout = np.std(predictions, axis=0)\n",
    "# errpred = scaleryerr.inverse_transform(prediction_mc_dropout[:,1].reshape(-1,1))\n",
    "errpred = prediction_mc_dropout[:,1]\n",
    "ln = len(errpred)\n",
    "sigma = np.sqrt(std_mc_dropout[:, 0]**2 + std_mc_dropout[:, 1]**2+ errpred.reshape(ln,)**2)"
   ]
  },
  {
   "cell_type": "code",
   "execution_count": 20,
   "id": "fa30cf59",
   "metadata": {},
   "outputs": [
    {
     "data": {
      "text/html": [
       "<div>\n",
       "<style scoped>\n",
       "    .dataframe tbody tr th:only-of-type {\n",
       "        vertical-align: middle;\n",
       "    }\n",
       "\n",
       "    .dataframe tbody tr th {\n",
       "        vertical-align: top;\n",
       "    }\n",
       "\n",
       "    .dataframe thead th {\n",
       "        text-align: right;\n",
       "    }\n",
       "</style>\n",
       "<table border=\"1\" class=\"dataframe\">\n",
       "  <thead>\n",
       "    <tr style=\"text-align: right;\">\n",
       "      <th></th>\n",
       "      <th>zcmb</th>\n",
       "    </tr>\n",
       "  </thead>\n",
       "  <tbody>\n",
       "    <tr>\n",
       "      <th>0</th>\n",
       "      <td>0.50349</td>\n",
       "    </tr>\n",
       "    <tr>\n",
       "      <th>1</th>\n",
       "      <td>0.49520</td>\n",
       "    </tr>\n",
       "    <tr>\n",
       "      <th>2</th>\n",
       "      <td>0.67820</td>\n",
       "    </tr>\n",
       "    <tr>\n",
       "      <th>3</th>\n",
       "      <td>0.86720</td>\n",
       "    </tr>\n",
       "    <tr>\n",
       "      <th>4</th>\n",
       "      <td>0.79920</td>\n",
       "    </tr>\n",
       "    <tr>\n",
       "      <th>...</th>\n",
       "      <td>...</td>\n",
       "    </tr>\n",
       "    <tr>\n",
       "      <th>890</th>\n",
       "      <td>0.97000</td>\n",
       "    </tr>\n",
       "    <tr>\n",
       "      <th>891</th>\n",
       "      <td>0.74000</td>\n",
       "    </tr>\n",
       "    <tr>\n",
       "      <th>892</th>\n",
       "      <td>0.93500</td>\n",
       "    </tr>\n",
       "    <tr>\n",
       "      <th>893</th>\n",
       "      <td>1.01400</td>\n",
       "    </tr>\n",
       "    <tr>\n",
       "      <th>894</th>\n",
       "      <td>1.09200</td>\n",
       "    </tr>\n",
       "  </tbody>\n",
       "</table>\n",
       "<p>895 rows × 1 columns</p>\n",
       "</div>"
      ],
      "text/plain": [
       "        zcmb\n",
       "0    0.50349\n",
       "1    0.49520\n",
       "2    0.67820\n",
       "3    0.86720\n",
       "4    0.79920\n",
       "..       ...\n",
       "890  0.97000\n",
       "891  0.74000\n",
       "892  0.93500\n",
       "893  1.01400\n",
       "894  1.09200\n",
       "\n",
       "[895 rows x 1 columns]"
      ]
     },
     "execution_count": 20,
     "metadata": {},
     "output_type": "execute_result"
    }
   ],
   "source": [
    "znews"
   ]
  },
  {
   "cell_type": "code",
   "execution_count": 22,
   "id": "bebc091e",
   "metadata": {},
   "outputs": [
    {
     "ename": "ValueError",
     "evalue": "yerr must be a scalar or a 1D or (2, n) array-like",
     "output_type": "error",
     "traceback": [
      "\u001b[0;31m---------------------------------------------------------------------------\u001b[0m",
      "\u001b[0;31mValueError\u001b[0m                                Traceback (most recent call last)",
      "\u001b[0;32m/tmp/ipykernel_192779/701915615.py\u001b[0m in \u001b[0;36m<module>\u001b[0;34m\u001b[0m\n\u001b[1;32m      5\u001b[0m \u001b[0;34m\u001b[0m\u001b[0m\n\u001b[1;32m      6\u001b[0m \u001b[0;34m\u001b[0m\u001b[0m\n\u001b[0;32m----> 7\u001b[0;31m plt.errorbar(znews.values, md_pantheon.values, yerr=err_total, markersize=2, fmt='o', \n\u001b[0m\u001b[1;32m      8\u001b[0m              \u001b[0mecolor\u001b[0m\u001b[0;34m=\u001b[0m\u001b[0;34m'g'\u001b[0m\u001b[0;34m,\u001b[0m \u001b[0mcapthick\u001b[0m\u001b[0;34m=\u001b[0m\u001b[0;36m2\u001b[0m\u001b[0;34m,\u001b[0m \u001b[0melinewidth\u001b[0m\u001b[0;34m=\u001b[0m\u001b[0;36m0.8\u001b[0m\u001b[0;34m,\u001b[0m \u001b[0malpha\u001b[0m\u001b[0;34m=\u001b[0m\u001b[0;36m0.3\u001b[0m\u001b[0;34m,\u001b[0m \u001b[0mc\u001b[0m\u001b[0;34m=\u001b[0m\u001b[0;34m'g'\u001b[0m\u001b[0;34m,\u001b[0m\u001b[0;34m\u001b[0m\u001b[0;34m\u001b[0m\u001b[0m\n\u001b[1;32m      9\u001b[0m              label='Pantheon new SN')\n",
      "\u001b[0;32m~/anaconda3/lib/python3.9/site-packages/matplotlib/pyplot.py\u001b[0m in \u001b[0;36merrorbar\u001b[0;34m(x, y, yerr, xerr, fmt, ecolor, elinewidth, capsize, barsabove, lolims, uplims, xlolims, xuplims, errorevery, capthick, data, **kwargs)\u001b[0m\n\u001b[1;32m   2770\u001b[0m         \u001b[0muplims\u001b[0m\u001b[0;34m=\u001b[0m\u001b[0;32mFalse\u001b[0m\u001b[0;34m,\u001b[0m \u001b[0mxlolims\u001b[0m\u001b[0;34m=\u001b[0m\u001b[0;32mFalse\u001b[0m\u001b[0;34m,\u001b[0m \u001b[0mxuplims\u001b[0m\u001b[0;34m=\u001b[0m\u001b[0;32mFalse\u001b[0m\u001b[0;34m,\u001b[0m \u001b[0merrorevery\u001b[0m\u001b[0;34m=\u001b[0m\u001b[0;36m1\u001b[0m\u001b[0;34m,\u001b[0m\u001b[0;34m\u001b[0m\u001b[0;34m\u001b[0m\u001b[0m\n\u001b[1;32m   2771\u001b[0m         capthick=None, *, data=None, **kwargs):\n\u001b[0;32m-> 2772\u001b[0;31m     return gca().errorbar(\n\u001b[0m\u001b[1;32m   2773\u001b[0m         \u001b[0mx\u001b[0m\u001b[0;34m,\u001b[0m \u001b[0my\u001b[0m\u001b[0;34m,\u001b[0m \u001b[0myerr\u001b[0m\u001b[0;34m=\u001b[0m\u001b[0myerr\u001b[0m\u001b[0;34m,\u001b[0m \u001b[0mxerr\u001b[0m\u001b[0;34m=\u001b[0m\u001b[0mxerr\u001b[0m\u001b[0;34m,\u001b[0m \u001b[0mfmt\u001b[0m\u001b[0;34m=\u001b[0m\u001b[0mfmt\u001b[0m\u001b[0;34m,\u001b[0m \u001b[0mecolor\u001b[0m\u001b[0;34m=\u001b[0m\u001b[0mecolor\u001b[0m\u001b[0;34m,\u001b[0m\u001b[0;34m\u001b[0m\u001b[0;34m\u001b[0m\u001b[0m\n\u001b[1;32m   2774\u001b[0m         \u001b[0melinewidth\u001b[0m\u001b[0;34m=\u001b[0m\u001b[0melinewidth\u001b[0m\u001b[0;34m,\u001b[0m \u001b[0mcapsize\u001b[0m\u001b[0;34m=\u001b[0m\u001b[0mcapsize\u001b[0m\u001b[0;34m,\u001b[0m \u001b[0mbarsabove\u001b[0m\u001b[0;34m=\u001b[0m\u001b[0mbarsabove\u001b[0m\u001b[0;34m,\u001b[0m\u001b[0;34m\u001b[0m\u001b[0;34m\u001b[0m\u001b[0m\n",
      "\u001b[0;32m~/anaconda3/lib/python3.9/site-packages/matplotlib/__init__.py\u001b[0m in \u001b[0;36minner\u001b[0;34m(ax, data, *args, **kwargs)\u001b[0m\n\u001b[1;32m   1359\u001b[0m     \u001b[0;32mdef\u001b[0m \u001b[0minner\u001b[0m\u001b[0;34m(\u001b[0m\u001b[0max\u001b[0m\u001b[0;34m,\u001b[0m \u001b[0;34m*\u001b[0m\u001b[0margs\u001b[0m\u001b[0;34m,\u001b[0m \u001b[0mdata\u001b[0m\u001b[0;34m=\u001b[0m\u001b[0;32mNone\u001b[0m\u001b[0;34m,\u001b[0m \u001b[0;34m**\u001b[0m\u001b[0mkwargs\u001b[0m\u001b[0;34m)\u001b[0m\u001b[0;34m:\u001b[0m\u001b[0;34m\u001b[0m\u001b[0;34m\u001b[0m\u001b[0m\n\u001b[1;32m   1360\u001b[0m         \u001b[0;32mif\u001b[0m \u001b[0mdata\u001b[0m \u001b[0;32mis\u001b[0m \u001b[0;32mNone\u001b[0m\u001b[0;34m:\u001b[0m\u001b[0;34m\u001b[0m\u001b[0;34m\u001b[0m\u001b[0m\n\u001b[0;32m-> 1361\u001b[0;31m             \u001b[0;32mreturn\u001b[0m \u001b[0mfunc\u001b[0m\u001b[0;34m(\u001b[0m\u001b[0max\u001b[0m\u001b[0;34m,\u001b[0m \u001b[0;34m*\u001b[0m\u001b[0mmap\u001b[0m\u001b[0;34m(\u001b[0m\u001b[0msanitize_sequence\u001b[0m\u001b[0;34m,\u001b[0m \u001b[0margs\u001b[0m\u001b[0;34m)\u001b[0m\u001b[0;34m,\u001b[0m \u001b[0;34m**\u001b[0m\u001b[0mkwargs\u001b[0m\u001b[0;34m)\u001b[0m\u001b[0;34m\u001b[0m\u001b[0;34m\u001b[0m\u001b[0m\n\u001b[0m\u001b[1;32m   1362\u001b[0m \u001b[0;34m\u001b[0m\u001b[0m\n\u001b[1;32m   1363\u001b[0m         \u001b[0mbound\u001b[0m \u001b[0;34m=\u001b[0m \u001b[0mnew_sig\u001b[0m\u001b[0;34m.\u001b[0m\u001b[0mbind\u001b[0m\u001b[0;34m(\u001b[0m\u001b[0max\u001b[0m\u001b[0;34m,\u001b[0m \u001b[0;34m*\u001b[0m\u001b[0margs\u001b[0m\u001b[0;34m,\u001b[0m \u001b[0;34m**\u001b[0m\u001b[0mkwargs\u001b[0m\u001b[0;34m)\u001b[0m\u001b[0;34m\u001b[0m\u001b[0;34m\u001b[0m\u001b[0m\n",
      "\u001b[0;32m~/anaconda3/lib/python3.9/site-packages/matplotlib/axes/_axes.py\u001b[0m in \u001b[0;36merrorbar\u001b[0;34m(self, x, y, yerr, xerr, fmt, ecolor, elinewidth, capsize, barsabove, lolims, uplims, xlolims, xuplims, errorevery, capthick, **kwargs)\u001b[0m\n\u001b[1;32m   3493\u001b[0m \u001b[0;34m\u001b[0m\u001b[0m\n\u001b[1;32m   3494\u001b[0m         \u001b[0;32mif\u001b[0m \u001b[0myerr\u001b[0m \u001b[0;32mis\u001b[0m \u001b[0;32mnot\u001b[0m \u001b[0;32mNone\u001b[0m\u001b[0;34m:\u001b[0m\u001b[0;34m\u001b[0m\u001b[0;34m\u001b[0m\u001b[0m\n\u001b[0;32m-> 3495\u001b[0;31m             \u001b[0mlower\u001b[0m\u001b[0;34m,\u001b[0m \u001b[0mupper\u001b[0m \u001b[0;34m=\u001b[0m \u001b[0mextract_err\u001b[0m\u001b[0;34m(\u001b[0m\u001b[0;34m'y'\u001b[0m\u001b[0;34m,\u001b[0m \u001b[0myerr\u001b[0m\u001b[0;34m,\u001b[0m \u001b[0my\u001b[0m\u001b[0;34m,\u001b[0m \u001b[0mlolims\u001b[0m\u001b[0;34m,\u001b[0m \u001b[0muplims\u001b[0m\u001b[0;34m)\u001b[0m\u001b[0;34m\u001b[0m\u001b[0;34m\u001b[0m\u001b[0m\n\u001b[0m\u001b[1;32m   3496\u001b[0m             barcols.append(self.vlines(\n\u001b[1;32m   3497\u001b[0m                 *apply_mask([x, lower, upper], everymask), **eb_lines_style))\n",
      "\u001b[0;32m~/anaconda3/lib/python3.9/site-packages/matplotlib/axes/_axes.py\u001b[0m in \u001b[0;36mextract_err\u001b[0;34m(name, err, data, lolims, uplims)\u001b[0m\n\u001b[1;32m   3445\u001b[0m                 \u001b[0ma\u001b[0m \u001b[0;34m=\u001b[0m \u001b[0mb\u001b[0m \u001b[0;34m=\u001b[0m \u001b[0merr\u001b[0m  \u001b[0;31m# Symmetric error: 1D iterable.\u001b[0m\u001b[0;34m\u001b[0m\u001b[0;34m\u001b[0m\u001b[0m\n\u001b[1;32m   3446\u001b[0m             \u001b[0;32mif\u001b[0m \u001b[0mnp\u001b[0m\u001b[0;34m.\u001b[0m\u001b[0mndim\u001b[0m\u001b[0;34m(\u001b[0m\u001b[0ma\u001b[0m\u001b[0;34m)\u001b[0m \u001b[0;34m>\u001b[0m \u001b[0;36m1\u001b[0m \u001b[0;32mor\u001b[0m \u001b[0mnp\u001b[0m\u001b[0;34m.\u001b[0m\u001b[0mndim\u001b[0m\u001b[0;34m(\u001b[0m\u001b[0mb\u001b[0m\u001b[0;34m)\u001b[0m \u001b[0;34m>\u001b[0m \u001b[0;36m1\u001b[0m\u001b[0;34m:\u001b[0m\u001b[0;34m\u001b[0m\u001b[0;34m\u001b[0m\u001b[0m\n\u001b[0;32m-> 3447\u001b[0;31m                 raise ValueError(\n\u001b[0m\u001b[1;32m   3448\u001b[0m                     f\"{name}err must be a scalar or a 1D or (2, n) array-like\")\n\u001b[1;32m   3449\u001b[0m             \u001b[0;31m# Using list comprehensions rather than arrays to preserve units.\u001b[0m\u001b[0;34m\u001b[0m\u001b[0;34m\u001b[0m\u001b[0m\n",
      "\u001b[0;31mValueError\u001b[0m: yerr must be a scalar or a 1D or (2, n) array-like"
     ]
    },
    {
     "data": {
      "image/png": "[encoded data removed]",
      "text/plain": [
       "<Figure size 1000x700 with 1 Axes>"
      ]
     },
     "metadata": {
      "needs_background": "light"
     },
     "output_type": "display_data"
    }
   ],
   "source": [
    "# Plotting\n",
    "plt.figure(figsize=(10, 7), dpi=100)\n",
    "errpred = prediction_mc_dropout[:,1]\n",
    "sigma = np.sqrt(std_mc_dropout[:, 0]**2 + std_mc_dropout[:, 1]**2+ errpred**2)\n",
    "\n",
    "\n",
    "plt.errorbar(znews.values, md_pantheon.values, yerr=err_total, markersize=2, fmt='o', \n",
    "             ecolor='g', capthick=2, elinewidth=0.8, alpha=0.3, c='g',\n",
    "             label='Pantheon new SN')\n",
    "\n",
    "plt.errorbar(znews.values, prediction_mc_dropout[:,0], yerr=sigma, markersize=2, fmt='o', \n",
    "             ecolor='r', capthick=2, elinewidth=0.8, alpha=0.3, c='m',\n",
    "             label='Synthetic data with $\\sigma$')\n",
    "\n",
    "plt.xlim(0,2)\n",
    "plt.xlim(0, 1.3)\n",
    "# plt.xlabel('Redshift')\n",
    "# plt.ylabel('$H(z)$')\n",
    "plt.ylabel(\"$\\mu(z)$\", fontsize=20)\n",
    "plt.xlabel(\"Redshift z\", fontsize=20)\n",
    "plt.xticks(fontsize=15)\n",
    "plt.yticks(fontsize=15)\n",
    "# plt.legend(loc='best')\n",
    "plt.legend(loc='upper left')\n",
    "# plt.show()\n",
    "plt.tight_layout()"
   ]
  },
  {
   "cell_type": "code",
   "execution_count": null,
   "id": "a1977d0c",
   "metadata": {},
   "outputs": [],
   "source": [
    "# save fake data\n",
    "mocky_mcdo = np.concatenate((prediction_mc_dropout[:,0].reshape(-1,1), sigma.reshape(-1,1)), axis=1)\n",
    "mockmuz_ffnn_mcdo = np.concatenate((znews.values, prediction_mc_dropout[:,0].reshape(-1,1)), axis=1)\n",
    "\n",
    "\n",
    "np.savetxt(\"sn_news.dat\",mockmuz_ffnn_mcdo, delimiter=\" \")\n",
    "ncov = len(znews)\n",
    "neuralcov = np.diag(errpred.reshape(ncov,))\n",
    "\n",
    "np.savetxt(\"sn_news_cov.dat\", neuralcov , header=\"#{}x{}\".format(ncov, ncov), delimiter=' ' )"
   ]
  },
  {
   "cell_type": "code",
   "execution_count": null,
   "id": "f6c87aa4",
   "metadata": {},
   "outputs": [],
   "source": [
    "np.shape(neuralcov)"
   ]
  },
  {
   "cell_type": "code",
   "execution_count": null,
   "id": "407922b4",
   "metadata": {},
   "outputs": [],
   "source": [
    "np.min(neuralcov), np.max(neuralcov)"
   ]
  },
  {
   "cell_type": "code",
   "execution_count": null,
   "id": "1728bdd2",
   "metadata": {},
   "outputs": [],
   "source": [
    "l = len(x_pantheon.values)\n",
    "errnot = err_pantheon.values.reshape(l,)"
   ]
  },
  {
   "cell_type": "code",
   "execution_count": null,
   "id": "2f73d395",
   "metadata": {},
   "outputs": [],
   "source": [
    "plt.plot(err_pantheon.values)\n",
    "plt.plot(errpred)"
   ]
  },
  {
   "cell_type": "code",
   "execution_count": 16,
   "id": "73812613",
   "metadata": {},
   "outputs": [
    {
     "data": {
      "text/plain": [
       "(895, 895)"
      ]
     },
     "execution_count": 16,
     "metadata": {},
     "output_type": "execute_result"
    }
   ],
   "source": [
    "len(np.diag(neuralcov)), len(errnot)"
   ]
  },
  {
   "cell_type": "code",
   "execution_count": 24,
   "id": "2ae73e86",
   "metadata": {},
   "outputs": [
    {
     "data": {
      "text/plain": [
       "(895, 1)"
      ]
     },
     "execution_count": 24,
     "metadata": {},
     "output_type": "execute_result"
    }
   ],
   "source": [
    "np.shape(err_total)"
   ]
  },
  {
   "cell_type": "code",
   "execution_count": null,
   "id": "6f614c39",
   "metadata": {},
   "outputs": [],
   "source": []
  }
 ],
 "metadata": {
  "kernelspec": {
   "display_name": "Python 3",
   "language": "python",
   "name": "python3"
  },
  "language_info": {
   "codemirror_mode": {
    "name": "ipython",
    "version": 3
   },
   "file_extension": ".py",
   "mimetype": "text/x-python",
   "name": "python",
   "nbconvert_exporter": "python",
   "pygments_lexer": "ipython3",
   "version": "3.9.7"
  }
 },
 "nbformat": 4,
 "nbformat_minor": 5
}
